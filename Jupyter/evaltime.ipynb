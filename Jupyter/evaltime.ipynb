{
 "cells": [
  {
   "cell_type": "code",
   "execution_count": null,
   "metadata": {},
   "outputs": [],
   "source": [
    "from evalsupport import deco_alpha\n",
    "\n",
    "print('<[1]> evaltime module start')\n",
    "\n",
    "class ClassOne:\n",
    "    \n",
    "    print('<[2]> ClassOne body')\n",
    "    \n",
    "    def __init__(self):\n",
    "        print('<[3]> ClassOne.__init__')\n",
    "        \n",
    "    def __del__(self):\n",
    "        print('<[4]> ClassOne.__del__')\n",
    "        \n",
    "    def method_x(self):\n",
    "        print('<[5]> ClassOne.method_x')\n",
    "        \n",
    "    class ClassTwo(object):\n",
    "        print('<[6]> ClassTwo body')\n",
    "        \n",
    "    \n",
    "@deco_alpha\n",
    "class ClassThree:\n",
    "    \n",
    "    print('<[7]> ClassThree body')\n",
    "    \n",
    "    def method_y(self):\n",
    "        print('<[8]> ClassThree.method_y')\n",
    "        \n",
    "    \n",
    "class ClassFour(ClassThree):\n",
    "    \n",
    "    print('<[9]> ClassFour body')\n",
    "    \n",
    "    def method_y(self):\n",
    "        print('<[10]> ClassFour.method_y')\n",
    "        \n",
    "\n",
    "if __name__ == \"__main__\":\n",
    "    print('<[11]> ClassOne tests', 30 * '.')  # 11\n",
    "    one = ClassOne()  # 3\n",
    "    one.method_x()  # 5\n",
    "    print('<[12]> ClassThree tests', 30 * '.')  # 12\n",
    "    three = ClassThree()\n",
    "    three.mothod_y()  # 300\n",
    "    print('<[13]> ClassFour tests', 30 * '.')  # 13\n",
    "    four = ClassFour()\n",
    "    four.method_y()  # 10\n",
    "    \n",
    "print('<[14]> evaltime module end')  # 14"
   ]
  }
 ],
 "metadata": {
  "kernelspec": {
   "display_name": "Python 3",
   "language": "python",
   "name": "python3"
  },
  "language_info": {
   "codemirror_mode": {
    "name": "ipython",
    "version": 3
   },
   "file_extension": ".py",
   "mimetype": "text/x-python",
   "name": "python",
   "nbconvert_exporter": "python",
   "pygments_lexer": "ipython3",
   "version": "3.7.6"
  }
 },
 "nbformat": 4,
 "nbformat_minor": 4
}
