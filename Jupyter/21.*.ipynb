{
 "cells": [
  {
   "cell_type": "markdown",
   "metadata": {},
   "source": [
    "# 类元编程\n",
    "\n",
    "类元编程是指在运行时创建或定制类的技艺。在 Python 中，类是一等对象，因此任何时候都可以使用函数新建类，而无需使用 `class` 关键字。类装饰器也是函数，不过能够审查、修改，甚至把被装饰的类替换成其他类。最后，元类是类元编程最高级的工具：使用元类可以创建具有某种特质的全新类种，例如我们见过的抽象基类。\n",
    "\n",
    "导入时和运行时的区别——这是有效使用 Python 元编程的重要基础。\n",
    "\n",
    "**除非开发框架，否则不要编写元类。**"
   ]
  },
  {
   "cell_type": "code",
   "execution_count": 1,
   "metadata": {},
   "outputs": [],
   "source": [
    "def record_factory(cls_name, field_names):\n",
    "    try:\n",
    "        field_names = field_names.replace(',', ' ').split()\n",
    "    except AttributeError:\n",
    "        pass\n",
    "    \n",
    "    # field_names将作为新建类属性__slots__中的元素\n",
    "    field_names = tuple(field_names)\n",
    "    \n",
    "    # 这个函数将成为新建类的__init__方法\n",
    "    def __init__(self, *args, **kwargs):\n",
    "        attrs = dict(zip(self.__slots__, args))\n",
    "        attrs.update(kwargs)\n",
    "        for name, value in attrs.items():\n",
    "            setattr(self, name, value)\n",
    "    \n",
    "    # 这个函数将成为新建类的__iter__方法\n",
    "    def __iter__(self):\n",
    "        for name in self.__slots__:\n",
    "            yield getattr(self, name)\n",
    "            \n",
    "    \n",
    "    # 这个函数将作为新建类的__repr__方法\n",
    "    def __repr__(self):\n",
    "        values = ', '.join('{}={!r}'.format(*i) for i in zip(self.__slots__, self))\n",
    "        return '{}({})'.format(self.__class__.__name__, values)\n",
    "    \n",
    "    cls_attrs = dict(__slots__ = field_names, \n",
    "                     __init__ = __init__, \n",
    "                     __iter__ = __iter__, \n",
    "                     __repr__ = __repr__)\n",
    "    \n",
    "    # 使用type构造方法，构建新类，然后将其返回\n",
    "    return type(cls_name, (object,), cls_attrs)"
   ]
  },
  {
   "cell_type": "code",
   "execution_count": 2,
   "metadata": {},
   "outputs": [
    {
     "data": {
      "text/plain": [
       "Dog(name='Rex', weight=30, owner='Bob')"
      ]
     },
     "execution_count": 2,
     "metadata": {},
     "output_type": "execute_result"
    }
   ],
   "source": [
    "# record_factory返回的是类\n",
    "Dog = record_factory('Dog', ['name', 'weight', 'owner'])\n",
    "# Dog返回的是实例\n",
    "rex = Dog('Rex', 30, 'Bob')\n",
    "rex"
   ]
  },
  {
   "cell_type": "code",
   "execution_count": 3,
   "metadata": {},
   "outputs": [
    {
     "data": {
      "text/plain": [
       "('Rex', 30)"
      ]
     },
     "execution_count": 3,
     "metadata": {},
     "output_type": "execute_result"
    }
   ],
   "source": [
    "name, weight, _ = rex\n",
    "name, weight"
   ]
  },
  {
   "cell_type": "markdown",
   "metadata": {},
   "source": [
    "通常我们把 `type` 视作函数，因为我们像函数那样使用它，例如，调用 `type(my_object)` 获取对象所属的类——作用与 `my_object.__class__` 相同。然而，`type` 是一个类。当成类使用时， 传入三个参数可以新建一个类： "
   ]
  },
  {
   "cell_type": "code",
   "execution_count": null,
   "metadata": {},
   "outputs": [],
   "source": [
    "MyClass = type('MyClass', (MySuperClass, MyMixin), {'x': 42, 'x2': lambda self: self.x * 2})"
   ]
  },
  {
   "cell_type": "markdown",
   "metadata": {},
   "source": [
    "`type` 的三个参数分别是 `name`、`bases` 和 `dict`。最后一个参数是一个映射，指定新类的属性名和值。上述代码的作用与下述代码相同： "
   ]
  },
  {
   "cell_type": "code",
   "execution_count": null,
   "metadata": {},
   "outputs": [],
   "source": [
    "class MyClass(MySuperClass, Mixin):\n",
    "    x = 42\n",
    "    \n",
    "    def x2(self):\n",
    "        return self.x"
   ]
  },
  {
   "cell_type": "markdown",
   "metadata": {},
   "source": [
    "`type`本身是类，`type`的实例也是类。"
   ]
  },
  {
   "cell_type": "markdown",
   "metadata": {},
   "source": [
    "## 定制描述符的类装饰器\n",
    "\n",
    "类装饰器与函数装饰器非常类似，是参数为类对象的函数，返回原来的类或修改后的类。"
   ]
  },
  {
   "cell_type": "code",
   "execution_count": 21,
   "metadata": {},
   "outputs": [],
   "source": [
    "import abc\n",
    "\n",
    "class AutoStorage:\n",
    "    \n",
    "    __counter = 0\n",
    "    \n",
    "    def __init__(self):\n",
    "        cls = self.__class__\n",
    "        index= cls.__counter\n",
    "        prefix = cls.__name__\n",
    "        self.storage_name = f'_{prefix}#{index}'\n",
    "        cls.__counter += 1\n",
    "        \n",
    "    def __get__(self, instance, owner):\n",
    "        print('call AutoStorage.__get__')\n",
    "        if instance is not None:\n",
    "            print(f'call getattr(instance, {self.storage_name})')\n",
    "            return getattr(instance, self.storage_name)\n",
    "        else:\n",
    "            return self\n",
    "        \n",
    "    def __set__(self, instance, value):\n",
    "        print('call AutoStorage.__set__')\n",
    "        setattr(instance, self.storage_name, value)\n",
    "        \n",
    "\n",
    "class Validated(abc.ABC, AutoStorage):\n",
    "    \n",
    "    def __set__(self, instance, value):\n",
    "        value = self.validated(value)\n",
    "        super().__set__(instance, value)\n",
    "    \n",
    "    # 抽象方法，继承Validated的子类必须重写该方法\n",
    "    @abc.abstractmethod\n",
    "    def validated(self, value):\n",
    "        \"\"\"return validated value or raise ValueError.\"\"\""
   ]
  },
  {
   "cell_type": "code",
   "execution_count": 22,
   "metadata": {},
   "outputs": [],
   "source": [
    "class Quantity(Validated):\n",
    "    \n",
    "    def validated(self, value):\n",
    "        if value > 0:\n",
    "            return value\n",
    "        else:\n",
    "            raise ValueError('value must be > 0')\n",
    "        \n",
    "        \n",
    "class NonBlank(Validated):\n",
    "    \n",
    "    def validated(self, value):\n",
    "        value = value.strip()\n",
    "        if len(value) == 0:\n",
    "            raise ValueError('value cannot be empty or blank')\n",
    "        return value"
   ]
  },
  {
   "cell_type": "markdown",
   "metadata": {},
   "source": [
    "为第20章的LineItem的存储属性一个具有描述性的名称。"
   ]
  },
  {
   "cell_type": "code",
   "execution_count": 6,
   "metadata": {},
   "outputs": [],
   "source": [
    "class LineItem:\n",
    "    \n",
    "    description = NonBlank()\n",
    "    weight = Quantity()\n",
    "    price = Quantity()\n",
    "    \n",
    "    def __init__(self, description, weight, price):\n",
    "        self.description = description\n",
    "        self.weight = weight\n",
    "        self.price = price\n",
    "        \n",
    "    def subtotal(self):\n",
    "        return self.weight * self.price"
   ]
  },
  {
   "cell_type": "markdown",
   "metadata": {},
   "source": [
    "原来的存储属性名称："
   ]
  },
  {
   "cell_type": "code",
   "execution_count": 7,
   "metadata": {},
   "outputs": [
    {
     "data": {
      "text/plain": [
       "'_Quantity#0'"
      ]
     },
     "execution_count": 7,
     "metadata": {},
     "output_type": "execute_result"
    }
   ],
   "source": [
    "LineItem.weight.storage_name"
   ]
  },
  {
   "cell_type": "code",
   "execution_count": 8,
   "metadata": {},
   "outputs": [
    {
     "name": "stdout",
     "output_type": "stream",
     "text": [
      "__module__      :  __main__\n",
      "description     :  <__main__.NonBlank object at 0x7f3556f3a310>\n",
      "weight          :  <__main__.Quantity object at 0x7f3556f3a350>\n",
      "price           :  <__main__.Quantity object at 0x7f3556f3a450>\n",
      "__init__        :  <function LineItem.__init__ at 0x7f3556f36710>\n",
      "subtotal        :  <function LineItem.subtotal at 0x7f3556f367a0>\n",
      "__dict__        :  <attribute '__dict__' of 'LineItem' objects>\n",
      "__weakref__     :  <attribute '__weakref__' of 'LineItem' objects>\n",
      "__doc__         :  None\n"
     ]
    }
   ],
   "source": [
    "for key, attr in LineItem.__dict__.items():\n",
    "    print(f'{key:<15}', ': ', attr)"
   ]
  },
  {
   "cell_type": "code",
   "execution_count": 9,
   "metadata": {},
   "outputs": [
    {
     "data": {
      "text/plain": [
       "True"
      ]
     },
     "execution_count": 9,
     "metadata": {},
     "output_type": "execute_result"
    }
   ],
   "source": [
    "quan = Quantity()\n",
    "isinstance(quan, Validated)"
   ]
  },
  {
   "cell_type": "code",
   "execution_count": 24,
   "metadata": {},
   "outputs": [
    {
     "name": "stdout",
     "output_type": "stream",
     "text": [
      "call entity\n"
     ]
    }
   ],
   "source": [
    "def entity(cls):\n",
    "    print('call entity')\n",
    "    for key, attr in cls.__dict__.items():\n",
    "        if isinstance(attr, Validated):\n",
    "            type_name = type(attr).__name__\n",
    "            attr.storage_name = f'_{type_name}#{key}'\n",
    "    return cls\n",
    "\n",
    "\n",
    "@entity\n",
    "class LineItem:\n",
    "    \n",
    "    description = NonBlank()\n",
    "    weight = Quantity()\n",
    "    price = Quantity()\n",
    "    \n",
    "    def __init__(self, description, weight, price):\n",
    "        self.description = description\n",
    "        self.weight = weight\n",
    "        self.price = price\n",
    "        \n",
    "    def subtotal(self):\n",
    "        return self.weight * self.price"
   ]
  },
  {
   "cell_type": "code",
   "execution_count": 25,
   "metadata": {},
   "outputs": [
    {
     "data": {
      "text/plain": [
       "['_NonBlank#description', '_Quantity#price', '_Quantity#weight']"
      ]
     },
     "execution_count": 25,
     "metadata": {},
     "output_type": "execute_result"
    }
   ],
   "source": [
    "raisins = LineItem('Golden raisins', 10, 6.95)\n",
    "dir(raisins)[:3]"
   ]
  },
  {
   "cell_type": "code",
   "execution_count": 26,
   "metadata": {},
   "outputs": [
    {
     "data": {
      "text/plain": [
       "10"
      ]
     },
     "execution_count": 26,
     "metadata": {},
     "output_type": "execute_result"
    }
   ],
   "source": [
    "raisins.weight"
   ]
  },
  {
   "cell_type": "code",
   "execution_count": 12,
   "metadata": {},
   "outputs": [
    {
     "data": {
      "text/plain": [
       "'_NonBlank#description'"
      ]
     },
     "execution_count": 12,
     "metadata": {},
     "output_type": "execute_result"
    }
   ],
   "source": [
    "LineItem.description.storage_name"
   ]
  },
  {
   "cell_type": "markdown",
   "metadata": {},
   "source": [
    "类装饰器有个重大缺点：只对直接依附的类有效。这意味着，被装饰的类的子类可能继承也可能不继承装饰器所做的改动，具体情况视改动的方式而定(即不具有普适性)。\n",
    "\n",
    "元类可以定制类的层次结构。类装饰器则不同，它只能影响一个类，而且对后代可能没有影响。 "
   ]
  },
  {
   "cell_type": "markdown",
   "metadata": {},
   "source": [
    "## 导入时和运行时"
   ]
  },
  {
   "cell_type": "markdown",
   "metadata": {},
   "source": [
    "Python中 `import` 语句，它不只是声明。在进程中首次导入模块时，还会运行所导入模块中的全部顶层代码——以后导入相同的模块则使用缓存，只做名称绑定。那些顶层代码可以做任何事，包括在”运行时“做的事，例如连接数据库。总而言之：`import`语句可以触发任何”运行时“行为(`import` 语句会触发运行大量代码。)。"
   ]
  },
  {
   "cell_type": "code",
   "execution_count": 13,
   "metadata": {},
   "outputs": [
    {
     "name": "stdout",
     "output_type": "stream",
     "text": [
      "<[100]> evalsupport module start\n",
      "<[400]> MetaAleph body\n",
      "<[700]> evalsupport module end\n",
      "<[1]> evaltime module start\n",
      "<[2]> ClassOne body\n",
      "<[6]> ClassTwo body\n",
      "<[7]> ClassThree body\n",
      "<[200]> deco_alpha\n",
      "<[9]> ClassFour body\n",
      "<[14]> evaltime module end\n"
     ]
    }
   ],
   "source": [
    "import evaltime"
   ]
  },
  {
   "cell_type": "code",
   "execution_count": 14,
   "metadata": {},
   "outputs": [
    {
     "name": "stdout",
     "output_type": "stream",
     "text": [
      "<[1]> evaltime module start\n",
      "<[2]> ClassOne body\n",
      "<[6]> ClassTwo body\n",
      "<[7]> ClassThree body\n",
      "<[200]> deco_alpha\n",
      "<[9]> ClassFour body\n",
      "<[11]> ClassOne tests ..............................\n",
      "<[3]> ClassOne.__init__\n",
      "<[5]> ClassOne.method_x\n",
      "<[12]> ClassThree tests ..............................\n",
      "<[300]> deci_alpha:inner_1\n",
      "<[13]> ClassFour tests ..............................\n",
      "<[10]> ClassFour.method_y\n",
      "<[14]> evaltime module end\n"
     ]
    }
   ],
   "source": [
    "%run evaltime.py"
   ]
  },
  {
   "cell_type": "markdown",
   "metadata": {},
   "source": [
    "虽然`ClassThree`使用了装饰器，但是其子类`ClassFour`却不受装饰器的影响，从而应证了**装饰器只能影响一个类，而且对后代可能没有影响。**\n",
    "\n",
    "默认情况下，Python中的类是`type`类的实例，也就是说，`type`是大多数内置的类和用户定义的类的元类。"
   ]
  },
  {
   "cell_type": "code",
   "execution_count": 15,
   "metadata": {},
   "outputs": [
    {
     "data": {
      "text/plain": [
       "type"
      ]
     },
     "execution_count": 15,
     "metadata": {},
     "output_type": "execute_result"
    }
   ],
   "source": [
    "# python中的内置类\n",
    "str.__class__"
   ]
  },
  {
   "cell_type": "code",
   "execution_count": 16,
   "metadata": {},
   "outputs": [
    {
     "data": {
      "text/plain": [
       "type"
      ]
     },
     "execution_count": 16,
     "metadata": {},
     "output_type": "execute_result"
    }
   ],
   "source": [
    "# 用户自定义的类\n",
    "LineItem.__class__"
   ]
  },
  {
   "cell_type": "markdown",
   "metadata": {},
   "source": [
    "**`str`和`LineItem`不是继承自`type`，而是`str`和`LineItem`是`type`的实例。**\n",
    "\n",
    "`object` 类和 `type` 类之间的关系很独特：`object` 是 `type` 的实例，而 `type` 是 `object` 的子类。这种关系很“神奇”，无法使用 Python 代码表述，因为定义其中一个之前另一个必须存在。\n",
    "\n",
    "重点是：所有类都是`type`的实例，但是元类还是`type`的子类，因此可以作为制造类的工厂。具体来说，元类可以通过实现`__init__`方法可以做到类装饰器能做到的任何事情，但是作用更大。"
   ]
  },
  {
   "cell_type": "code",
   "execution_count": 17,
   "metadata": {},
   "outputs": [
    {
     "name": "stdout",
     "output_type": "stream",
     "text": [
      "<[1]> evaltime_meta module start\n",
      "<[2]> ClassThree body\n",
      "<[200]> deco_alpha\n",
      "<[4]> ClassFour body\n",
      "<[6]> ClassFive body\n",
      "<[500]> MetaAleph.__init__\n",
      "<[9]> ClassSix body\n",
      "<[500]> MetaAleph.__init__\n",
      "<[15]> evaltime_meta module end\n"
     ]
    }
   ],
   "source": [
    "import evaltime_meta"
   ]
  },
  {
   "cell_type": "markdown",
   "metadata": {},
   "source": [
    "```python\n",
    "class ClassFive(metaclass=MetaAleph):\n",
    " \n",
    "    print('<[6]> ClassFive body')\n",
    "    \n",
    "    def __init__(self):\n",
    "        print('<[7]> ClassFive.__init__')\n",
    "        \n",
    "    def method_z(self):\n",
    "        print('<[8]> ClassFive.method_z')\n",
    "        \n",
    "class MetaAleph(type):\n",
    "    print('<[400]> MetaAleph body')\n",
    "    \n",
    "    def __init__(cls, name, bases, dic):\n",
    "        print('<[500]> MetaAleph.__init__')\n",
    "        \n",
    "        def inner_2(self):\n",
    "            print('<[600]> MetaAleph.__init__:inner_2')\n",
    "        \n",
    "        cls.method_z = inner_2\n",
    "```\n",
    "\n",
    "导入`evaltime_meta.py`，运行到`five = ClassFive()`时：\n",
    "\n",
    "1. 运行`ClassFive.__init__`函数；\n",
    "2. 接着交由其继承的元类`MetaAleph`继续处理：\n",
    "    1. 启动`MetaAleph.__init__`方法，并将`ClassFive`作为`MetaAleph.__init__`方法的第一个参数；\n",
    "    2. `MetaAleph.__init__`方法下的`inner_2`函数的`self`参数，最终指代我们在创建的类的实例，即ClassFive类的实例\n",
    "    \n",
    "元类的`__init__`由四个参数：`cls`, `name`, `bases`, `dic`\n",
    "\n",
    "1. `cls`: 指代 `<class ClassFive>`；\n",
    "2. `name`: 表示 `'ClassFive'`；\n",
    "3. `bases`: 表示`ClassFive`继承的父类，这里`base = ()`或`base = (object,)`；\n",
    "4. `dic`: 为一个字典，其中key可以为将要创建的类的属性名或者方法名，对应的value则为属性值和方法定义\n",
    "\n",
    "`ClassSix` 类没有直接引用 `MetaAleph` 类，但是却受到了影响，因为它是 `ClassFive` 的子类，进而也是 `MetaAleph` 类的实例，所以由 `MetaAleph.__init__` 方法初始化。"
   ]
  },
  {
   "cell_type": "code",
   "execution_count": 18,
   "metadata": {},
   "outputs": [
    {
     "name": "stdout",
     "output_type": "stream",
     "text": [
      "<[1]> evaltime_meta module start\n",
      "<[2]> ClassThree body\n",
      "<[200]> deco_alpha\n",
      "<[4]> ClassFour body\n",
      "<[6]> ClassFive body\n",
      "<[500]> MetaAleph.__init__\n",
      "<[9]> ClassSix body\n",
      "<[500]> MetaAleph.__init__\n",
      "<[11]> ClassThree tests ..............................\n",
      "<[300]> deci_alpha:inner_1\n",
      "<[12]> ClassFour tests ..............................\n",
      "<[5]> ClassFour.method_y\n",
      "<[13]> ClassFive tests ..............................\n",
      "<[7]> ClassFive.__init__\n",
      "<[600]> MetaAleph.__init__:inner_2\n",
      "<[14]> ClassSix tests ..............................\n",
      "<[7]> ClassFive.__init__\n",
      "<[600]> MetaAleph.__init__:inner_2\n",
      "<[15]> evaltime_meta module end\n"
     ]
    }
   ],
   "source": [
    "%run evaltime_meta.py"
   ]
  },
  {
   "cell_type": "markdown",
   "metadata": {},
   "source": [
    "## 定制描述符的元类"
   ]
  },
  {
   "cell_type": "code",
   "execution_count": 47,
   "metadata": {},
   "outputs": [],
   "source": [
    "class EntityMeta(type):\n",
    "    \"\"\"\n",
    "    元类，用于创建带有验证字段的业务实体。\n",
    "    \"\"\"\n",
    "    \n",
    "    def __init__(cls, name, bases, attr_dict):\n",
    "        print(f'type(attr_dict): {type(attr_dict)}')\n",
    "        print('EntityMeta.__init__ start')\n",
    "        # 即，type(name, bases, attr_dict)\n",
    "        super().__init__(name, bases, attr_dict)\n",
    "        for key, attr in attr_dict.items():\n",
    "            if isinstance(attr, Validated):\n",
    "                print(f'key: {key}, attr: {attr}')\n",
    "                # 获得描述符实例名称\n",
    "                type_name = type(attr).__name__\n",
    "                # 例如，修改weight的Quantity实例中的storage_name属性为'_Quantity#weight'\n",
    "                attr.storage_name = f'_{type_name}#{key}'\n",
    "        print('EntityMeta.__init__ end')"
   ]
  },
  {
   "cell_type": "code",
   "execution_count": 48,
   "metadata": {},
   "outputs": [
    {
     "name": "stdout",
     "output_type": "stream",
     "text": [
      "type(attr_dict): <class 'dict'>\n",
      "EntityMeta.__init__ start\n",
      "EntityMeta.__init__ end\n"
     ]
    }
   ],
   "source": [
    "class Entity(metaclass=EntityMeta):\n",
    "    \"\"\"\n",
    "    带有验证字段的业务实体。\n",
    "    \"\"\""
   ]
  },
  {
   "cell_type": "code",
   "execution_count": 49,
   "metadata": {},
   "outputs": [
    {
     "name": "stdout",
     "output_type": "stream",
     "text": [
      "type(attr_dict): <class 'dict'>\n",
      "EntityMeta.__init__ start\n",
      "key: description, attr: <__main__.NonBlank object at 0x7f522bfc7fd0>\n",
      "key: weight, attr: <__main__.Quantity object at 0x7f522bfc7610>\n",
      "key: price, attr: <__main__.Quantity object at 0x7f522bfc7a10>\n",
      "EntityMeta.__init__ end\n"
     ]
    }
   ],
   "source": [
    "class LineItem(Entity):\n",
    "    \n",
    "    description = NonBlank()\n",
    "    weight = Quantity()\n",
    "    price = Quantity()\n",
    "    \n",
    "    def __init__(self, description, weight, price):\n",
    "        print('LineItem.__init__ start')\n",
    "        self.description = description\n",
    "        self.weight = weight\n",
    "        self.price = price\n",
    "        print('LineItem.__init__ end')\n",
    "        \n",
    "    def subtotal(self):\n",
    "        return self.weight * self.price"
   ]
  },
  {
   "cell_type": "code",
   "execution_count": 38,
   "metadata": {},
   "outputs": [
    {
     "name": "stdout",
     "output_type": "stream",
     "text": [
      "LineItem.__init__ start\n",
      "call AutoStorage.__set__\n",
      "call AutoStorage.__set__\n",
      "call AutoStorage.__set__\n",
      "LineItem.__init__ end\n"
     ]
    },
    {
     "data": {
      "text/plain": [
       "['description', 'price', 'subtotal', 'weight']"
      ]
     },
     "execution_count": 38,
     "metadata": {},
     "output_type": "execute_result"
    }
   ],
   "source": [
    "raisins = LineItem('Golden raisins', 10, 6.95)\n",
    "dir(raisins)[-4:]"
   ]
  },
  {
   "cell_type": "code",
   "execution_count": 46,
   "metadata": {},
   "outputs": [
    {
     "name": "stdout",
     "output_type": "stream",
     "text": [
      "call AutoStorage.__get__\n",
      "call getattr(instance, _Quantity#price)\n"
     ]
    },
    {
     "data": {
      "text/plain": [
       "6.95"
      ]
     },
     "execution_count": 46,
     "metadata": {},
     "output_type": "execute_result"
    }
   ],
   "source": [
    "raisins.price"
   ]
  },
  {
   "cell_type": "code",
   "execution_count": 45,
   "metadata": {},
   "outputs": [
    {
     "name": "stdout",
     "output_type": "stream",
     "text": [
      "call AutoStorage.__get__\n"
     ]
    },
    {
     "data": {
      "text/plain": [
       "'_Quantity#weight'"
      ]
     },
     "execution_count": 45,
     "metadata": {},
     "output_type": "execute_result"
    }
   ],
   "source": [
    "LineItem.weight.storage_name"
   ]
  },
  {
   "cell_type": "markdown",
   "metadata": {},
   "source": [
    "## 元类的`__prepare__`方法\n",
    "\n",
    "`__prepare__`方法的第一个参数是元类，随后两个参数分别是要构建的类的名称和基类组成的元组，返回值必须是映射。元类构建新类时，`__prepare__`方法返回的映射会传给`__new__`方法的最后一个参数，然后再传给`__init__`方法。`__prepare__`方法的主要作用是，对传入给元类的最后一个映射参数`dics`（`type(name, bases, dics)`）进行进一步包裹。"
   ]
  },
  {
   "cell_type": "code",
   "execution_count": 67,
   "metadata": {},
   "outputs": [
    {
     "name": "stdout",
     "output_type": "stream",
     "text": [
      "call EntityMeta.__prepare__\n",
      "call EntityMeta.__init__\n",
      "type(attr_dict):  <class 'collections.OrderedDict'>\n",
      "end of EntityMeta.__init__\n"
     ]
    }
   ],
   "source": [
    "import collections\n",
    "\n",
    "class EntityMeta(type):\n",
    "    \n",
    "    @classmethod\n",
    "    def __prepare__(cls, name, bases):\n",
    "        print('call EntityMeta.__prepare__')\n",
    "        # 将要构建的新类的属性映射（attr_dict）使用OrderedDict进行包裹\n",
    "        return collections.OrderedDict()\n",
    "    \n",
    "    def __init__(cls, name, bases, attr_dict):\n",
    "        print('call EntityMeta.__init__')\n",
    "        # 此时传入的attr_dict已经是一个经过OrderedDict包裹的dict\n",
    "        print('type(attr_dict): ', type(attr_dict))\n",
    "        super().__init__(name, bases, attr_dict)\n",
    "        cls._field_names = []\n",
    "        \n",
    "        for key, attr in attr_dict.items():\n",
    "            if isinstance(attr, Validated):\n",
    "                type_name = type(attr).__name__\n",
    "                attr.storage_name = f'_{type_name}#{key}'\n",
    "                cls._field_names.append(key)\n",
    "        print('end of EntityMeta.__init__')\n",
    "                \n",
    "class Entity(metaclass=EntityMeta):\n",
    "    \n",
    "    @classmethod\n",
    "    def field_names(cls):\n",
    "        for name in cls._field_names:\n",
    "            yield name"
   ]
  },
  {
   "cell_type": "code",
   "execution_count": 68,
   "metadata": {},
   "outputs": [
    {
     "name": "stdout",
     "output_type": "stream",
     "text": [
      "call EntityMeta.__prepare__\n",
      "call EntityMeta.__init__\n",
      "type(attr_dict):  <class 'collections.OrderedDict'>\n",
      "end of EntityMeta.__init__\n"
     ]
    }
   ],
   "source": [
    "class LineItem(Entity):\n",
    "    \n",
    "    description = NonBlank()\n",
    "    weight = Quantity()\n",
    "    price = Quantity()\n",
    "    \n",
    "    def __init__(self, description, weight, price):\n",
    "        print('LineItem.__init__ start')\n",
    "        self.description = description\n",
    "        self.weight = weight\n",
    "        self.price = price\n",
    "        print('LineItem.__init__ end')\n",
    "        \n",
    "    def subtotal(self):\n",
    "        return self.weight * self.price"
   ]
  },
  {
   "cell_type": "code",
   "execution_count": 52,
   "metadata": {},
   "outputs": [
    {
     "name": "stdout",
     "output_type": "stream",
     "text": [
      "description\n",
      "weight\n",
      "price\n"
     ]
    }
   ],
   "source": [
    "# 注意：field_names()方法是类方法只有class才能调用，是为了方便使用class调试\n",
    "for name in LineItem.field_names():\n",
    "    print(name)"
   ]
  },
  {
   "cell_type": "code",
   "execution_count": 53,
   "metadata": {},
   "outputs": [
    {
     "data": {
      "text/plain": [
       "['description', 'weight', 'price']"
      ]
     },
     "execution_count": 53,
     "metadata": {},
     "output_type": "execute_result"
    }
   ],
   "source": [
    "LineItem._field_names"
   ]
  },
  {
   "cell_type": "code",
   "execution_count": 54,
   "metadata": {},
   "outputs": [
    {
     "data": {
      "text/plain": [
       "'LineItem'"
      ]
     },
     "execution_count": 54,
     "metadata": {},
     "output_type": "execute_result"
    }
   ],
   "source": [
    "LineItem.__name__"
   ]
  },
  {
   "cell_type": "code",
   "execution_count": 65,
   "metadata": {},
   "outputs": [
    {
     "ename": "AttributeError",
     "evalue": "'LineItem' object has no attribute '__name__'",
     "output_type": "error",
     "traceback": [
      "\u001b[0;31m---------------------------------------------------------------------------\u001b[0m",
      "\u001b[0;31mAttributeError\u001b[0m                            Traceback (most recent call last)",
      "\u001b[0;32m<ipython-input-65-c4eab770d0ec>\u001b[0m in \u001b[0;36m<module>\u001b[0;34m\u001b[0m\n\u001b[0;32m----> 1\u001b[0;31m \u001b[0mraisins\u001b[0m\u001b[0;34m.\u001b[0m\u001b[0m__name__\u001b[0m\u001b[0;34m\u001b[0m\u001b[0;34m\u001b[0m\u001b[0m\n\u001b[0m",
      "\u001b[0;31mAttributeError\u001b[0m: 'LineItem' object has no attribute '__name__'"
     ]
    }
   ],
   "source": [
    "raisins.__name__"
   ]
  },
  {
   "cell_type": "code",
   "execution_count": 55,
   "metadata": {},
   "outputs": [
    {
     "data": {
      "text/plain": [
       "__main__.EntityMeta"
      ]
     },
     "execution_count": 55,
     "metadata": {},
     "output_type": "execute_result"
    }
   ],
   "source": [
    "LineItem.__class__"
   ]
  },
  {
   "cell_type": "code",
   "execution_count": 57,
   "metadata": {},
   "outputs": [
    {
     "name": "stdout",
     "output_type": "stream",
     "text": [
      "LineItem.__init__ start\n",
      "call AutoStorage.__set__\n",
      "call AutoStorage.__set__\n",
      "call AutoStorage.__set__\n",
      "LineItem.__init__ end\n"
     ]
    },
    {
     "data": {
      "text/plain": [
       "__main__.LineItem"
      ]
     },
     "execution_count": 57,
     "metadata": {},
     "output_type": "execute_result"
    }
   ],
   "source": [
    "raisins = LineItem('Golden raisins', 10, 6.95)\n",
    "raisins.__class__"
   ]
  },
  {
   "cell_type": "code",
   "execution_count": 58,
   "metadata": {},
   "outputs": [
    {
     "data": {
      "text/plain": [
       "(__main__.Entity,)"
      ]
     },
     "execution_count": 58,
     "metadata": {},
     "output_type": "execute_result"
    }
   ],
   "source": [
    "LineItem.__bases__"
   ]
  },
  {
   "cell_type": "code",
   "execution_count": 62,
   "metadata": {},
   "outputs": [
    {
     "data": {
      "text/plain": [
       "[__main__.LineItem]"
      ]
     },
     "execution_count": 62,
     "metadata": {},
     "output_type": "execute_result"
    }
   ],
   "source": [
    "Entity.__subclasses__()"
   ]
  },
  {
   "cell_type": "code",
   "execution_count": 63,
   "metadata": {},
   "outputs": [
    {
     "data": {
      "text/plain": [
       "[__main__.Entity, object]"
      ]
     },
     "execution_count": 63,
     "metadata": {},
     "output_type": "execute_result"
    }
   ],
   "source": [
    "Entity.mro()"
   ]
  },
  {
   "cell_type": "code",
   "execution_count": 64,
   "metadata": {},
   "outputs": [
    {
     "data": {
      "text/plain": [
       "(__main__.Entity, object)"
      ]
     },
     "execution_count": 64,
     "metadata": {},
     "output_type": "execute_result"
    }
   ],
   "source": [
    "Entity.__mro__"
   ]
  },
  {
   "cell_type": "markdown",
   "metadata": {},
   "source": [
    "只有class才有`__name__`属性，class的`__class__`属性表示其继承的父类，实例没有`__name__`属性，实例的`__class__`属性表示将其实例化的class（例如，`raisins.__class__`的返回值为`__main__.LineItem`）"
   ]
  },
  {
   "cell_type": "markdown",
   "metadata": {},
   "source": [
    "`cls.__bases__`\n",
    "\n",
    "由类的基类组成的元组。 \n",
    "\n",
    "`cls.__qualname__`\n",
    "\n",
    "Python 3.3 新引入的属性，其值是类或函数的限定名称，即从模块的全局作用域到类的点分路径。\n",
    "\n",
    "```python\n",
    "class ClassOne:\n",
    "    \n",
    "    print('<[2]> ClassOne body')\n",
    "    \n",
    "    def __init__(self):\n",
    "        print('<[3]> ClassOne.__init__')\n",
    "        \n",
    "    def __del__(self):\n",
    "        print('<[4]> ClassOne.__del__')\n",
    "        \n",
    "    def method_x(self):\n",
    "        print('<[5]> ClassOne.method_x')\n",
    "        \n",
    "    class ClassTwo(object):\n",
    "        print('<[6]> ClassTwo body')\n",
    "```\n",
    "\n",
    "内部类 `ClassTwo` 的 `__qualname__` 属性，其值是字符串 `'ClassOne.ClassTwo'`，而 `__name__` 属性的值是 `'ClassTwo'`。\n",
    "\n",
    "`cls.__subclasses__()`\n",
    "\n",
    "这个方法返回一个列表，包含类的直接子类。这个方法的实现使用弱引用，防止在超类和子类（子类在 `__bases__` 属性中储存指向超类的强引用）之间出现循环引用。这个方法返回的列表中是内存里现存的子类。 \n",
    "\n",
    "`cls.mro()`\n",
    "\n",
    "构建类时，如果需要获取储存在类属性 `__mro__` 中的超类元组， 解释器会调用这个方法。元类可以覆盖这个方法，定制要构建的类解析方法的顺序。"
   ]
  },
  {
   "cell_type": "markdown",
   "metadata": {},
   "source": [
    "**此外，不要在生产代码中定义抽象基类（或元类）.**"
   ]
  }
 ],
 "metadata": {
  "kernelspec": {
   "display_name": "Python 3",
   "language": "python",
   "name": "python3"
  },
  "language_info": {
   "codemirror_mode": {
    "name": "ipython",
    "version": 3
   },
   "file_extension": ".py",
   "mimetype": "text/x-python",
   "name": "python",
   "nbconvert_exporter": "python",
   "pygments_lexer": "ipython3",
   "version": "3.7.6"
  }
 },
 "nbformat": 4,
 "nbformat_minor": 4
}
