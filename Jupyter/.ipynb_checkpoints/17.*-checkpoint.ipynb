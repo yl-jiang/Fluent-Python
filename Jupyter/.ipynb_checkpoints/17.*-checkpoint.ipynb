{
 "cells": [
  {
   "cell_type": "markdown",
   "metadata": {},
   "source": [
    "期物（future）的概念：future指一种对象，表示异步执行的操作。\n",
    "\n",
    "在I/O密集型应用中，并发策略（使用线程或asyncio包），吞吐量都比依次执行的代码高很多。"
   ]
  },
  {
   "cell_type": "code",
   "execution_count": 11,
   "metadata": {},
   "outputs": [
    {
     "name": "stdout",
     "output_type": "stream",
     "text": [
      "len(POP20_CC) = 20\n"
     ]
    }
   ],
   "source": [
    "import os\n",
    "import time\n",
    "import sys\n",
    "import requests\n",
    "\n",
    "POP20_CC = ('CN IN US ID BR PK NG BD RU JP MX PH VN ET EG DE IR TR CD FR').split()\n",
    "print(f'len(POP20_CC) = {len(POP20_CC)}')\n",
    "\n",
    "BASE_URL = 'http://flupy.org/data/flags'\n",
    "DEST_DIR = './downloads'\n",
    "\n",
    "\n",
    "def save_flag(img, filename):\n",
    "    path = os.path.join(DEST_DIR, filename)\n",
    "    with open(path, 'wb') as fp:\n",
    "        fp.write(img)\n",
    "        \n",
    "def get_flag(cc):\n",
    "    url = f'{BASE_URL}/{cc.lower()}/{cc.lower()}.gif'\n",
    "    resp = requests.get(url)\n",
    "    return resp.content\n",
    "\n",
    "def show(text):\n",
    "    print(text, end=' ')\n",
    "    sys.stdout.flush()\n",
    "    \n",
    "def download_many(cc_list):\n",
    "    for cc in sorted(cc_list):\n",
    "        image = get_flag(cc)\n",
    "        show(cc)\n",
    "        save_flag(image, cc.lower() + '.gif')\n",
    "\n",
    "def main(download_many):\n",
    "    t0 = time.time()\n",
    "    count = download_many(POP20_CC)\n",
    "    elapsed = time.time() - t0\n",
    "    print(f'\\n{count} flags downloaded in {elapsed:.2f}s')"
   ]
  },
  {
   "cell_type": "code",
   "execution_count": 12,
   "metadata": {},
   "outputs": [
    {
     "name": "stdout",
     "output_type": "stream",
     "text": [
      "BD BR CD CN DE EG ET FR ID IN IR JP MX NG PH PK RU TR US VN \n",
      "None flags downloaded in 43.50s\n"
     ]
    }
   ],
   "source": [
    "main(download_many)"
   ]
  },
  {
   "cell_type": "markdown",
   "metadata": {},
   "source": [
    "concurrent.futures模块的主要特色是ThreadPoolExecutor和ProcessPoolExecutor类，这两个类实现的接口能分别在不同的线程或进程中执行可调用对象。"
   ]
  },
  {
   "cell_type": "code",
   "execution_count": 17,
   "metadata": {},
   "outputs": [],
   "source": [
    "MAX_WORKERS = 20\n",
    "from concurrent import futures\n",
    "\n",
    "def download_one(cc):\n",
    "    image = get_flag(cc)\n",
    "    show(cc)\n",
    "    save_flag(image, cc.lower() + '.gif')\n",
    "    return cc\n",
    "\n",
    "def download_many(cc_list):\n",
    "    workers = min(MAX_WORKERS, len(cc_list))\n",
    "    with futures.ThreadPoolExecutor(workers) as executor:\n",
    "        res = executor.map(download_one, sorted(cc_list))\n",
    "    return len(list(res))"
   ]
  },
  {
   "cell_type": "markdown",
   "metadata": {},
   "source": [
    "ThreadPoolExecutor.map()函数的作用与内置的map函数类似，不过download_one函数会在多个线程中并发调用。ThreadPoolExecutor.map()函数返回一个生成器。"
   ]
  },
  {
   "cell_type": "code",
   "execution_count": 19,
   "metadata": {},
   "outputs": [
    {
     "name": "stdout",
     "output_type": "stream",
     "text": [
      "PH BRMX  VN ET ID JP DE BD CN FR PK CD US RU EG IR IN NG TR \n",
      "20 flags downloaded in 26.26s\n"
     ]
    }
   ],
   "source": [
    "main(download_many)"
   ]
  },
  {
   "cell_type": "markdown",
   "metadata": {},
   "source": [
    "concurrent.futures.Future类实例表示可能已经完成或者尚未完成的延迟计算。**通常情况下自己不应该创建future，只能由并发框架（concurrent.futures或asyncio）实例化。**\n",
    "\n",
    "只有把排定的事件交给concurrent.futures.Executor子类处理时，才会创建concurrrent.futures.Future实例。Executor.submit()方法的参数是一个可调用对象，调用这个方法后会为传入的可调用对象排期，并返回一个future。\n",
    "\n",
    "future实例的几种重要的方法：\n",
    "+ done()方法：这个方法不阻塞，返回值是布尔值，指明future链接的可调用对象是否已经执行。\n",
    "+ add_done_call_back()：这个方法只有一个参数，类型是可调用的对象，future运行结束后会调用传入的可调用对象。\n",
    "+ result():在运行结束后调用该方法，返回可调用对象的结果，或者重新抛出执行可调用对象时抛出的异常。对与concurrent.futures.Future实例来说，调用result()方法会阻塞调用方所在的线程，直到有结果可返回。\n",
    "\n",
    "concurrent.futures.as_completed函数的参数是一个future实例组成的列表，返回值是一个迭代器，在future运行结束后产出future。"
   ]
  },
  {
   "cell_type": "code",
   "execution_count": 23,
   "metadata": {},
   "outputs": [],
   "source": [
    "def download_many(cc_list):\n",
    "    with futures.ThreadPoolExecutor(max_workers=10) as executor:\n",
    "        to_do = []\n",
    "        for cc in sorted(cc_list):\n",
    "            # 创建并排定future实例\n",
    "            future = executor.submit(download_one, cc)\n",
    "            to_do.append(future)\n",
    "            print(f'Scheduled for {cc}: {future}')\n",
    "            \n",
    "        results = []\n",
    "        \n",
    "        for future in futures.as_completed(to_do):\n",
    "            # 获取future实例的结果\n",
    "            res = future.result()\n",
    "            print(f'{future} result: {res}')\n",
    "            results.append(res)\n",
    "            \n",
    "    return len(results)"
   ]
  },
  {
   "cell_type": "code",
   "execution_count": 24,
   "metadata": {},
   "outputs": [
    {
     "name": "stdout",
     "output_type": "stream",
     "text": [
      "Scheduled for BD: <Future at 0x27fe59c4088 state=running>\n",
      "Scheduled for BR: <Future at 0x27fe59c49c8 state=running>\n",
      "Scheduled for CD: <Future at 0x27fe57ab608 state=running>\n",
      "Scheduled for CN: <Future at 0x27fe5928cc8 state=running>\n",
      "Scheduled for DE: <Future at 0x27fe59216c8 state=running>\n",
      "Scheduled for EG: <Future at 0x27fe5926fc8 state=running>\n",
      "Scheduled for ET: <Future at 0x27fe59a7148 state=running>\n",
      "Scheduled for FR: <Future at 0x27fe59b8dc8 state=running>\n",
      "Scheduled for ID: <Future at 0x27fe59bc8c8 state=running>\n",
      "Scheduled for IN: <Future at 0x27fe582d5c8 state=running>\n",
      "Scheduled for IR: <Future at 0x27fe59a17c8 state=pending>\n",
      "Scheduled for JP: <Future at 0x27fe5852708 state=pending>\n",
      "Scheduled for MX: <Future at 0x27fe5852648 state=pending>\n",
      "Scheduled for NG: <Future at 0x27fe58523c8 state=pending>\n",
      "Scheduled for PH: <Future at 0x27fe58529c8 state=pending>\n",
      "Scheduled for PK: <Future at 0x27fe58528c8 state=pending>\n",
      "Scheduled for RU: <Future at 0x27fe5852548 state=pending>\n",
      "Scheduled for TR: <Future at 0x27fe5852348 state=pending>\n",
      "Scheduled for US: <Future at 0x27fe583be88 state=pending>\n",
      "Scheduled for VN: <Future at 0x27fe5852308 state=pending>\n",
      "EG <Future at 0x27fe5926fc8 state=finished returned str> result: EG\n",
      "CD <Future at 0x27fe57ab608 state=finished returned str> result: CD\n",
      "FR <Future at 0x27fe59b8dc8 state=finished returned str> result: FR\n",
      "MX <Future at 0x27fe5852648 state=finished returned str> result: MX\n",
      "NG <Future at 0x27fe58523c8 state=finished returned str> result: NG\n",
      "BD <Future at 0x27fe59c4088 state=finished returned str> result: BD\n",
      "ET <Future at 0x27fe59a7148 state=finished returned str> result: ET\n",
      "IR <Future at 0x27fe59a17c8 state=finished returned str> result: IR\n",
      "BR <Future at 0x27fe59c49c8 state=finished returned str> result: BR\n",
      "CN <Future at 0x27fe5928cc8 state=finished returned str> result: CN\n",
      "PH <Future at 0x27fe58529c8 state=finished returned str> result: PH\n",
      "IN <Future at 0x27fe582d5c8 state=finished returned str> result: IN\n",
      "TR <Future at 0x27fe5852348 state=finished returned str> result: TR\n",
      "ID <Future at 0x27fe59bc8c8 state=finished returned str> result: ID\n",
      "US <Future at 0x27fe583be88 state=finished returned str> result: US\n",
      "JP <Future at 0x27fe5852708 state=finished returned str> result: JP\n",
      "PK <Future at 0x27fe58528c8 state=finished returned str> result: PK\n",
      "VN <Future at 0x27fe5852308 state=finished returned str> result: VN\n",
      "RU <Future at 0x27fe5852548 state=finished returned str> result: RU\n",
      "DE <Future at 0x27fe59216c8 state=finished returned str> result: DE\n",
      "\n",
      "20 flags downloaded in 14.78s\n"
     ]
    }
   ],
   "source": [
    "main(download_many)"
   ]
  },
  {
   "cell_type": "markdown",
   "metadata": {},
   "source": [
    "排定的future按字母表的顺序，future的repr()方法会显示future的状态，前10各future的状态时running，是因为我们设置了10个工作的线程。后10个future的状态是pending，表示在等待有线程可用。\n",
    "\n",
    "`EG <Future at 0x27fe5926fc8 state=finished returned str> result: EG`中的第一个EG是在一个工作线程中的download_one函数输出的，在此之后的内容是download_many函数输出的。"
   ]
  },
  {
   "cell_type": "markdown",
   "metadata": {},
   "source": [
    "CPython解释器本身就不是线程安全的，因此有全局解释器锁（Global Interpreter Lock），**一次只允许使用一个线程执行Python字节码**，因此，一个Python进程通常不能同时使用多个CPU核心。然而，标准库中所有执行阻塞型I/O操作的函数，在等待操作系统返回结果时都会释放GIL，这意味着在Python语言这个层次上可以使用多线程。\n",
    "\n",
    "ProcessPoolExecutor类把工作分配给多个python进程处理，因此，如果需要做CPU密集型处理，使用这个模块能绕开GIL，利用所有可用的CPU核心。使用concurrent.futures能轻松的把基于线程的方案转换为基于进程的方案。\n",
    "\n",
    "基于进程的最佳进程数等于硬件中可用的所有CPU核心数，而基于线程的线程数取决于做的是什么事，以及可用的内存有多少，因此要通过仔细测试才能找到最佳线程数。"
   ]
  },
  {
   "cell_type": "code",
   "execution_count": 42,
   "metadata": {},
   "outputs": [],
   "source": [
    "from time import sleep, strftime\n",
    "from concurrent import futures\n",
    "table = '\\t'\n",
    "\n",
    "def display(*args):\n",
    "    print(f'{strftime(\"[%H:%M:%S]\")}', end=' ')\n",
    "    print(*args)\n",
    "    \n",
    "          \n",
    "def loiter(n):\n",
    "    display(f\"{table*n} loiter({n}): doing nothing for {n}s ...\")\n",
    "    sleep(n)\n",
    "    display(f\"{table*n} loiter({n}) done!\")\n",
    "    return n * 10\n",
    "          \n",
    "def main():\n",
    "    display('Script starting ...')\n",
    "    executor = futures.ThreadPoolExecutor(max_workers=3)\n",
    "    results = executor.map(loiter, range(5))\n",
    "    display('result: ', results)\n",
    "    display('Waiting for invidual results: ')\n",
    "    for i, result in enumerate(results):\n",
    "        display(f'result {i}: {result}')"
   ]
  },
  {
   "cell_type": "code",
   "execution_count": 43,
   "metadata": {},
   "outputs": [
    {
     "name": "stdout",
     "output_type": "stream",
     "text": [
      "[17:53:46] Script starting ...\n",
      "[17:53:46]  loiter(0): doing nothing for 0s ...\n",
      "[17:53:46]  loiter(0) done!\n",
      "[17:53:46] \t loiter(1): doing nothing for 1s ...\n",
      "[17:53:46] \t\t loiter(2): doing nothing for 2s ...\n",
      "[17:53:46] result:  <generator object Executor.map.<locals>.result_iterator at 0x0000027FE5973448>\n",
      "[17:53:46] Waiting for invidual results: \n",
      "[17:53:46] \t\t\t loiter(3): doing nothing for 3s ...\n",
      "[17:53:46] result 0: 0\n",
      "[17:53:47] \t loiter(1) done!\n",
      "[17:53:47] \t\t\t\t loiter(4): doing nothing for 4s ...\n",
      "[17:53:47] result 1: 10\n",
      "[17:53:48] \t\t loiter(2) done!\n",
      "[17:53:48] result 2: 20\n",
      "[17:53:49] \t\t\t loiter(3) done!\n",
      "[17:53:49] result 3: 30\n",
      "[17:53:51] \t\t\t\t loiter(4) done!\n",
      "[17:53:51] result 4: 40\n"
     ]
    }
   ],
   "source": [
    "main()"
   ]
  },
  {
   "cell_type": "markdown",
   "metadata": {},
   "source": [
    "设置了`max_worker=3`，因此同时最多可以分配3个线程，程序一开始分配三个线程：`loiter(0)`,`ioter(1)`和`lioter(2)`。由于`lioter(0)`sleep了0秒，因此，该线程立马结束，于是空出了一个线程，并立马启动了下一个等待的线程`lioter(3)`【这一点可以从`lioter(0)`,`lioter(1)`,`lioter(2)`和`lioter(3)`的启动时间相同，均为`[17:53:46]`可以看出】\n",
    "\n",
    "`Executor.map`函数有个特性：返回结果的顺序与调用开始的顺序一致。如果第一个调用从开始到生成结果总共用时10秒，而其它调用只用1秒，那么代码会阻塞10秒，以获取map方法返回的生成器产出的第一个结果，在此时候，获取后续结果时不会阻塞，因为后续的调用已经结束。"
   ]
  },
  {
   "cell_type": "code",
   "execution_count": null,
   "metadata": {},
   "outputs": [],
   "source": []
  }
 ],
 "metadata": {
  "kernelspec": {
   "display_name": "Python 3",
   "language": "python",
   "name": "python3"
  },
  "language_info": {
   "codemirror_mode": {
    "name": "ipython",
    "version": 3
   },
   "file_extension": ".py",
   "mimetype": "text/x-python",
   "name": "python",
   "nbconvert_exporter": "python",
   "pygments_lexer": "ipython3",
   "version": "3.7.6"
  }
 },
 "nbformat": 4,
 "nbformat_minor": 2
}
