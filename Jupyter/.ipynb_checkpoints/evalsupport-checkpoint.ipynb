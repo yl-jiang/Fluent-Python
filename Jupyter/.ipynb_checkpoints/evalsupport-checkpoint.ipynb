{
 "cells": [
  {
   "cell_type": "code",
   "execution_count": null,
   "metadata": {},
   "outputs": [],
   "source": [
    "print('<[100]> evalsupport module start')\n",
    "\n",
    "def deco_alphs(cls):\n",
    "    print('<[200]> deco_alpha')\n",
    "    \n",
    "    def inner_1(self):\n",
    "        print('<[300]> deci_alpha:inner_1')\n",
    "    \n",
    "    cls.method_y = inner_1\n",
    "    return cls\n",
    "\n",
    "class MetaAleph(type):\n",
    "    print('<[400]> MetaAlph body')\n",
    "    \n",
    "    def __init__(cls, name, bases, dic):\n",
    "        print('<[500]> MetaAleph.__init__')\n",
    "        \n",
    "        def inner_2(self):\n",
    "            print('<[600]> MetaAleph.__init__:inner_2')\n",
    "        \n",
    "        cls.method_z = inner_2\n",
    "        \n",
    "print('<[700]> evalsupport module end')"
   ]
  }
 ],
 "metadata": {
  "kernelspec": {
   "display_name": "Python 3",
   "language": "python",
   "name": "python3"
  },
  "language_info": {
   "codemirror_mode": {
    "name": "ipython",
    "version": 3
   },
   "file_extension": ".py",
   "mimetype": "text/x-python",
   "name": "python",
   "nbconvert_exporter": "python",
   "pygments_lexer": "ipython3",
   "version": "3.7.6"
  }
 },
 "nbformat": 4,
 "nbformat_minor": 4
}
