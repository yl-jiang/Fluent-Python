{
 "cells": [
  {
   "cell_type": "markdown",
   "metadata": {},
   "source": [
    "+ 不能重载内置类型的运算符\n",
    "+ 不能新建运算符，只能重载现有的\n",
    "+ 某些运算符不能重载——is, and, or 和not\n",
    "+ 遵循运算符的一个基本规则：始终返回一个新对象。也就是说，不能修改self，要创建并返回合适类型的实例"
   ]
  },
  {
   "cell_type": "code",
   "execution_count": 81,
   "metadata": {},
   "outputs": [],
   "source": [
    "import numbers\n",
    "import operator\n",
    "import functools\n",
    "import itertools\n",
    "from array import array\n",
    "import reprlib\n",
    "\n",
    "class Vector:\n",
    "    typecode = 'd'\n",
    "    shortcut_names = 'xyzt'\n",
    "    \n",
    "    def __init__(self, componments):\n",
    "        print('call __init__()')\n",
    "        self._componments = array(self.typecode, componments)\n",
    "        \n",
    "    def __iter__(self):\n",
    "        print('call __iter__()')\n",
    "        return iter(self._componments)\n",
    "    \n",
    "    def __repr__(self):\n",
    "        print('call __repr__()')\n",
    "        componments = reprlib.repr(self._componments)\n",
    "        componments = componments[componments.find('['):-1]\n",
    "        return 'Vector({})'.format(componments)\n",
    "    \n",
    "    def __str__(self):\n",
    "        print('call __str__()')\n",
    "        return str(tuple(self))\n",
    "    \n",
    "    def __bytes__(self):\n",
    "        print('call __bytes__()')\n",
    "        return (bytes([ord(self.typecode)]) + bytes(self._componments))\n",
    "    \n",
    "    def __eq__(self, other):\n",
    "        print('call __eq__()')\n",
    "        return len(self) == len(other) and all(a == b for a, b in zip(self, other))\n",
    "    \n",
    "    def __abs__(self):\n",
    "        print('call __abs__()')\n",
    "        return math.sqrt(sum(x**2 for x in self))\n",
    "    \n",
    "    def __bool__(self):\n",
    "        print('call __bool__()')\n",
    "        return bool(abs(self))\n",
    "    \n",
    "    def __len__(self):\n",
    "        print('call __len__()')\n",
    "        return len(self._componments)\n",
    "    \n",
    "    def __getitem__(self, index):\n",
    "        print('call __getitem__()')\n",
    "        cls = type(self) # 获取实例所属的类\n",
    "        if isinstance(index, slice):  # 如果取的是一个序列的数据，那么仍然返回一个class\n",
    "            return cls(self._componments[index])\n",
    "        elif isinstance(index, numbers.Integral):\n",
    "            return self._componments[index]\n",
    "        else:\n",
    "            msg = '{cls.__name__} indices must be integers'\n",
    "            raise TypeError(msg.format(cls=cls))\n",
    "            \n",
    "    def __getattr__(self, name):\n",
    "        print('call __getattr__()')\n",
    "        cls = type(self)\n",
    "        if len(name) == 1:\n",
    "            pos = cls.shortcut_names.find(name)\n",
    "            if 0 <= pos < len(self._componments):\n",
    "                return self._componments[pos]\n",
    "        msg = '{.__name__!r} object has no attribute {!r}'\n",
    "        raise AttributeError(msg.format(cls, name))\n",
    "        \n",
    "    def __setattr__(self, name, value):\n",
    "        print('call __setattr__()')\n",
    "        cls = type(self)\n",
    "        if len(name) == 1:\n",
    "            if name in cls.shortcut_names:\n",
    "                error = 'readonly attribute {attr_name!r}'\n",
    "            elif name.islower():\n",
    "                error = \"can't set attributes 'a' to 'z' in {cls_name!r}\"\n",
    "            else:\n",
    "                error = ''\n",
    "            \n",
    "            if error:\n",
    "                msg = error.format(cls_name=cls.__name__, attr_name=name)\n",
    "                raise AttributeError(msg)\n",
    "                \n",
    "        super().__setattr__(name, value)\n",
    "        \n",
    "    def __hash__(self):  # 跟之前一样，自定义对象的hash值由其所有属性的异或运算得到\n",
    "        print('call __hash__()')\n",
    "        hashes = (hash(x) for x in self._componments)\n",
    "        return functools.reduce(operator.xor, hashes, 0)\n",
    "    \n",
    "    def angle(self, n):\n",
    "        r = math.sqrt(sum(x**2 for x in self[n:]))\n",
    "        a = math.atan2(r, self[n-1])\n",
    "        if (n == len(self) - 1) and (self[-1] < 0):\n",
    "            return math.pi * 2 - a\n",
    "        else:\n",
    "            return a\n",
    "    \n",
    "    def angles(self):\n",
    "        return (self.angle(n) for n in range(1, len(self)))\n",
    "    \n",
    "    def __format__(self, fmt_spec=''):\n",
    "        if fmt_spec.endswith('h'):\n",
    "            fmt_spec = fmt_spec[:-1]\n",
    "            coords = itertools.chain([abs(self)], self.angles())\n",
    "            outer_fmt = '<{}>'\n",
    "        else:\n",
    "            coords = self\n",
    "            outer_fmt = '({})'\n",
    "        components = (format(c, fmt_spec) for c in coords)\n",
    "        return outer_fmt.format(', '.join(components))\n",
    "        \n",
    "    @classmethod\n",
    "    def frombytes(cls, octets):\n",
    "        print('call classmethod frombytes()')\n",
    "        typecode = chr(octets[0])\n",
    "        memv = memoryview(octets[1:]).cast(typecode)\n",
    "        return cls(memv)"
   ]
  },
  {
   "cell_type": "code",
   "execution_count": 82,
   "metadata": {},
   "outputs": [
    {
     "name": "stdout",
     "output_type": "stream",
     "text": [
      "call __init__()\n",
      "call __setattr__()\n"
     ]
    }
   ],
   "source": [
    "v = Vector([1, 2, 3])"
   ]
  },
  {
   "cell_type": "code",
   "execution_count": 83,
   "metadata": {},
   "outputs": [
    {
     "name": "stdout",
     "output_type": "stream",
     "text": [
      "call __pos__()\n",
      "call __init__()\n",
      "call __iter__()\n",
      "call __setattr__()\n",
      "call __str__()\n",
      "call __iter__()\n",
      "call __len__()\n",
      "(1.0, 2.0, 3.0)\n"
     ]
    }
   ],
   "source": [
    "def __pos__(self):\n",
    "    print('call __pos__()')\n",
    "    return Vector(self)\n",
    "\n",
    "Vector.__pos__ = __pos__\n",
    "print(+v)"
   ]
  },
  {
   "cell_type": "code",
   "execution_count": 84,
   "metadata": {},
   "outputs": [
    {
     "name": "stdout",
     "output_type": "stream",
     "text": [
      "call __neg__()\n",
      "call __iter__()\n",
      "call __init__()\n",
      "call __setattr__()\n",
      "call __str__()\n",
      "call __iter__()\n",
      "call __len__()\n",
      "(-1.0, -2.0, -3.0)\n"
     ]
    }
   ],
   "source": [
    "def __neg__(self):\n",
    "    print('call __neg__()')\n",
    "    return Vector(-x for x in self)\n",
    "\n",
    "Vector.__neg__ = __neg__\n",
    "print(-v)"
   ]
  },
  {
   "cell_type": "code",
   "execution_count": 85,
   "metadata": {},
   "outputs": [
    {
     "name": "stdout",
     "output_type": "stream",
     "text": [
      "call __add__()\n",
      "call __iter__()\n",
      "call __init__()\n",
      "call __setattr__()\n",
      "call __str__()\n",
      "call __iter__()\n",
      "call __len__()\n",
      "(12.0, 24.0, 36.0, 44.0, 55.0)\n"
     ]
    }
   ],
   "source": [
    "def __add__(self, other):\n",
    "    \"\"\"这样实现的__add__()方法，要求左操作数必须为Vector对象，右操作数可以为任意可迭代对象\n",
    "    我的理解是：使用__add__()方法时，Python会检查左操作数的类型，只有在确定左操作数是本class的一个实例时，\n",
    "    才会执行代码逻辑。\n",
    "    \"\"\"\n",
    "    print('call __add__()')\n",
    "    pairs = itertools.zip_longest(self, other, fillvalue=0.)\n",
    "    return Vector(a+b for a, b in pairs)\n",
    "\n",
    "Vector.__add__ = __add__\n",
    "print(v + [11, 22, 33, 44, 55])"
   ]
  },
  {
   "cell_type": "code",
   "execution_count": 86,
   "metadata": {},
   "outputs": [
    {
     "ename": "TypeError",
     "evalue": "can only concatenate list (not \"Vector\") to list",
     "output_type": "error",
     "traceback": [
      "\u001b[0;31m---------------------------------------------------------------------------\u001b[0m",
      "\u001b[0;31mTypeError\u001b[0m                                 Traceback (most recent call last)",
      "\u001b[0;32m<ipython-input-86-dcbcf84211cf>\u001b[0m in \u001b[0;36m<module>\u001b[0;34m\u001b[0m\n\u001b[0;32m----> 1\u001b[0;31m \u001b[0mprint\u001b[0m\u001b[0;34m(\u001b[0m\u001b[0;34m[\u001b[0m\u001b[0;36m11\u001b[0m\u001b[0;34m,\u001b[0m \u001b[0;36m22\u001b[0m\u001b[0;34m,\u001b[0m \u001b[0;36m33\u001b[0m\u001b[0;34m,\u001b[0m \u001b[0;36m44\u001b[0m\u001b[0;34m,\u001b[0m \u001b[0;36m55\u001b[0m\u001b[0;34m]\u001b[0m \u001b[0;34m+\u001b[0m \u001b[0mv\u001b[0m\u001b[0;34m)\u001b[0m\u001b[0;34m\u001b[0m\u001b[0;34m\u001b[0m\u001b[0m\n\u001b[0m",
      "\u001b[0;31mTypeError\u001b[0m: can only concatenate list (not \"Vector\") to list"
     ]
    }
   ],
   "source": [
    "print([11, 22, 33, 44, 55] + v)"
   ]
  },
  {
   "cell_type": "markdown",
   "metadata": {},
   "source": [
    "`__radd__` 方法是一种后备机制，如果左操作数没有实现 `__add__` 方法，或者实现了，但是返回 `NotImplemented` 表明它不知道如何处理右操作数，那么 Python 会调用 `__radd__` 方法。\n",
    "\n",
    "执行:\n",
    "```Python\n",
    "a + b\n",
    "```\n",
    "时，Python解释器会按照如下行为执行相应操作：\n",
    "\n",
    "+ 如果 a 有 `__add__` 方法，而且返回值不是 `NotImplemented`，调用 `a.__add__(b)`，然后返回结果。 \n",
    "+ 如果 a 没有 `__add__` 方法，或者调用 `__add__` 方法返回 `NotImplemented`，检查 b 有没有 `__radd__` 方法，如果有，而且没有返回 `NotImplemented`，调用 `b.__radd__(a)`，然后返回结果。\n",
    "+ 如果 b 没有 `__radd__` 方法，或者调用 `__radd__` 方法返回 `NotImplemented`，抛出 `TypeError`，并在错误消息中指明操作数类型不支持。"
   ]
  },
  {
   "cell_type": "code",
   "execution_count": 87,
   "metadata": {},
   "outputs": [],
   "source": [
    "def __radd__(val1, val2):\n",
    "    # __add__()方法的后备方法。当左操作数不是Vector类型时，尝试调用该方法\n",
    "    print('call __radd__()')\n",
    "    return val1 + val2\n",
    "    \n",
    "Vector.__radd__ = __radd__"
   ]
  },
  {
   "cell_type": "code",
   "execution_count": 88,
   "metadata": {},
   "outputs": [
    {
     "name": "stdout",
     "output_type": "stream",
     "text": [
      "call __radd__()\n",
      "call __add__()\n",
      "call __iter__()\n",
      "call __init__()\n",
      "call __setattr__()\n",
      "call __str__()\n",
      "call __iter__()\n",
      "call __len__()\n",
      "(12.0, 24.0, 36.0, 44.0, 55.0)\n"
     ]
    }
   ],
   "source": [
    "print([11, 22, 33, 44, 55] + v)"
   ]
  },
  {
   "cell_type": "markdown",
   "metadata": {},
   "source": [
    "class Vector的`__add__()`方法仍有缺陷，例如，不能处理Vector和不可迭代类型数据的相加操作，也不能处理，与可迭代但非数值类型的对象进行相加操作。当执行这些未定义的操作时，返回的错误提示往往词不达意。对于这些未定义操作，应该设法返回有意义（`NotImplemented`）的错误提示。"
   ]
  },
  {
   "cell_type": "code",
   "execution_count": 89,
   "metadata": {},
   "outputs": [
    {
     "name": "stdout",
     "output_type": "stream",
     "text": [
      "call __add__()\n",
      "call __iter__()\n"
     ]
    },
    {
     "ename": "TypeError",
     "evalue": "zip_longest argument #2 must support iteration",
     "output_type": "error",
     "traceback": [
      "\u001b[0;31m---------------------------------------------------------------------------\u001b[0m",
      "\u001b[0;31mTypeError\u001b[0m                                 Traceback (most recent call last)",
      "\u001b[0;32m<ipython-input-89-f66d2396cea7>\u001b[0m in \u001b[0;36m<module>\u001b[0;34m\u001b[0m\n\u001b[0;32m----> 1\u001b[0;31m \u001b[0mprint\u001b[0m\u001b[0;34m(\u001b[0m\u001b[0mv\u001b[0m \u001b[0;34m+\u001b[0m \u001b[0;36m1\u001b[0m\u001b[0;34m)\u001b[0m\u001b[0;34m\u001b[0m\u001b[0;34m\u001b[0m\u001b[0m\n\u001b[0m",
      "\u001b[0;32m<ipython-input-85-e77c8c2914c7>\u001b[0m in \u001b[0;36m__add__\u001b[0;34m(self, other)\u001b[0m\n\u001b[1;32m      2\u001b[0m     \u001b[0;31m# 这样实现的__add__()方法，要求左操作数必须为Vector对象，右操作数可以为任意可迭代对象\u001b[0m\u001b[0;34m\u001b[0m\u001b[0;34m\u001b[0m\u001b[0;34m\u001b[0m\u001b[0m\n\u001b[1;32m      3\u001b[0m     \u001b[0mprint\u001b[0m\u001b[0;34m(\u001b[0m\u001b[0;34m'call __add__()'\u001b[0m\u001b[0;34m)\u001b[0m\u001b[0;34m\u001b[0m\u001b[0;34m\u001b[0m\u001b[0m\n\u001b[0;32m----> 4\u001b[0;31m     \u001b[0mpairs\u001b[0m \u001b[0;34m=\u001b[0m \u001b[0mitertools\u001b[0m\u001b[0;34m.\u001b[0m\u001b[0mzip_longest\u001b[0m\u001b[0;34m(\u001b[0m\u001b[0mself\u001b[0m\u001b[0;34m,\u001b[0m \u001b[0mother\u001b[0m\u001b[0;34m,\u001b[0m \u001b[0mfillvalue\u001b[0m\u001b[0;34m=\u001b[0m\u001b[0;36m0.\u001b[0m\u001b[0;34m)\u001b[0m\u001b[0;34m\u001b[0m\u001b[0;34m\u001b[0m\u001b[0m\n\u001b[0m\u001b[1;32m      5\u001b[0m     \u001b[0;32mreturn\u001b[0m \u001b[0mVector\u001b[0m\u001b[0;34m(\u001b[0m\u001b[0ma\u001b[0m\u001b[0;34m+\u001b[0m\u001b[0mb\u001b[0m \u001b[0;32mfor\u001b[0m \u001b[0ma\u001b[0m\u001b[0;34m,\u001b[0m \u001b[0mb\u001b[0m \u001b[0;32min\u001b[0m \u001b[0mpairs\u001b[0m\u001b[0;34m)\u001b[0m\u001b[0;34m\u001b[0m\u001b[0;34m\u001b[0m\u001b[0m\n\u001b[1;32m      6\u001b[0m \u001b[0;34m\u001b[0m\u001b[0m\n",
      "\u001b[0;31mTypeError\u001b[0m: zip_longest argument #2 must support iteration"
     ]
    }
   ],
   "source": [
    "print(v + 1)"
   ]
  },
  {
   "cell_type": "code",
   "execution_count": 90,
   "metadata": {},
   "outputs": [
    {
     "name": "stdout",
     "output_type": "stream",
     "text": [
      "call __add__()\n",
      "call __iter__()\n",
      "call __init__()\n"
     ]
    },
    {
     "ename": "TypeError",
     "evalue": "unsupported operand type(s) for +: 'float' and 'str'",
     "output_type": "error",
     "traceback": [
      "\u001b[0;31m---------------------------------------------------------------------------\u001b[0m",
      "\u001b[0;31mTypeError\u001b[0m                                 Traceback (most recent call last)",
      "\u001b[0;32m<ipython-input-90-195842d5d70f>\u001b[0m in \u001b[0;36m<module>\u001b[0;34m\u001b[0m\n\u001b[0;32m----> 1\u001b[0;31m \u001b[0mprint\u001b[0m\u001b[0;34m(\u001b[0m\u001b[0mv\u001b[0m \u001b[0;34m+\u001b[0m \u001b[0;34m'abc'\u001b[0m\u001b[0;34m)\u001b[0m\u001b[0;34m\u001b[0m\u001b[0;34m\u001b[0m\u001b[0m\n\u001b[0m",
      "\u001b[0;32m<ipython-input-85-e77c8c2914c7>\u001b[0m in \u001b[0;36m__add__\u001b[0;34m(self, other)\u001b[0m\n\u001b[1;32m      3\u001b[0m     \u001b[0mprint\u001b[0m\u001b[0;34m(\u001b[0m\u001b[0;34m'call __add__()'\u001b[0m\u001b[0;34m)\u001b[0m\u001b[0;34m\u001b[0m\u001b[0;34m\u001b[0m\u001b[0m\n\u001b[1;32m      4\u001b[0m     \u001b[0mpairs\u001b[0m \u001b[0;34m=\u001b[0m \u001b[0mitertools\u001b[0m\u001b[0;34m.\u001b[0m\u001b[0mzip_longest\u001b[0m\u001b[0;34m(\u001b[0m\u001b[0mself\u001b[0m\u001b[0;34m,\u001b[0m \u001b[0mother\u001b[0m\u001b[0;34m,\u001b[0m \u001b[0mfillvalue\u001b[0m\u001b[0;34m=\u001b[0m\u001b[0;36m0.\u001b[0m\u001b[0;34m)\u001b[0m\u001b[0;34m\u001b[0m\u001b[0;34m\u001b[0m\u001b[0m\n\u001b[0;32m----> 5\u001b[0;31m     \u001b[0;32mreturn\u001b[0m \u001b[0mVector\u001b[0m\u001b[0;34m(\u001b[0m\u001b[0ma\u001b[0m\u001b[0;34m+\u001b[0m\u001b[0mb\u001b[0m \u001b[0;32mfor\u001b[0m \u001b[0ma\u001b[0m\u001b[0;34m,\u001b[0m \u001b[0mb\u001b[0m \u001b[0;32min\u001b[0m \u001b[0mpairs\u001b[0m\u001b[0;34m)\u001b[0m\u001b[0;34m\u001b[0m\u001b[0;34m\u001b[0m\u001b[0m\n\u001b[0m\u001b[1;32m      6\u001b[0m \u001b[0;34m\u001b[0m\u001b[0m\n\u001b[1;32m      7\u001b[0m \u001b[0mVector\u001b[0m\u001b[0;34m.\u001b[0m\u001b[0m__add__\u001b[0m \u001b[0;34m=\u001b[0m \u001b[0m__add__\u001b[0m\u001b[0;34m\u001b[0m\u001b[0;34m\u001b[0m\u001b[0m\n",
      "\u001b[0;32m<ipython-input-81-d2970227caf8>\u001b[0m in \u001b[0;36m__init__\u001b[0;34m(self, componments)\u001b[0m\n\u001b[1;32m     12\u001b[0m     \u001b[0;32mdef\u001b[0m \u001b[0m__init__\u001b[0m\u001b[0;34m(\u001b[0m\u001b[0mself\u001b[0m\u001b[0;34m,\u001b[0m \u001b[0mcomponments\u001b[0m\u001b[0;34m)\u001b[0m\u001b[0;34m:\u001b[0m\u001b[0;34m\u001b[0m\u001b[0;34m\u001b[0m\u001b[0m\n\u001b[1;32m     13\u001b[0m         \u001b[0mprint\u001b[0m\u001b[0;34m(\u001b[0m\u001b[0;34m'call __init__()'\u001b[0m\u001b[0;34m)\u001b[0m\u001b[0;34m\u001b[0m\u001b[0;34m\u001b[0m\u001b[0m\n\u001b[0;32m---> 14\u001b[0;31m         \u001b[0mself\u001b[0m\u001b[0;34m.\u001b[0m\u001b[0m_componments\u001b[0m \u001b[0;34m=\u001b[0m \u001b[0marray\u001b[0m\u001b[0;34m(\u001b[0m\u001b[0mself\u001b[0m\u001b[0;34m.\u001b[0m\u001b[0mtypecode\u001b[0m\u001b[0;34m,\u001b[0m \u001b[0mcomponments\u001b[0m\u001b[0;34m)\u001b[0m\u001b[0;34m\u001b[0m\u001b[0;34m\u001b[0m\u001b[0m\n\u001b[0m\u001b[1;32m     15\u001b[0m \u001b[0;34m\u001b[0m\u001b[0m\n\u001b[1;32m     16\u001b[0m     \u001b[0;32mdef\u001b[0m \u001b[0m__iter__\u001b[0m\u001b[0;34m(\u001b[0m\u001b[0mself\u001b[0m\u001b[0;34m)\u001b[0m\u001b[0;34m:\u001b[0m\u001b[0;34m\u001b[0m\u001b[0;34m\u001b[0m\u001b[0m\n",
      "\u001b[0;32m<ipython-input-85-e77c8c2914c7>\u001b[0m in \u001b[0;36m<genexpr>\u001b[0;34m(.0)\u001b[0m\n\u001b[1;32m      3\u001b[0m     \u001b[0mprint\u001b[0m\u001b[0;34m(\u001b[0m\u001b[0;34m'call __add__()'\u001b[0m\u001b[0;34m)\u001b[0m\u001b[0;34m\u001b[0m\u001b[0;34m\u001b[0m\u001b[0m\n\u001b[1;32m      4\u001b[0m     \u001b[0mpairs\u001b[0m \u001b[0;34m=\u001b[0m \u001b[0mitertools\u001b[0m\u001b[0;34m.\u001b[0m\u001b[0mzip_longest\u001b[0m\u001b[0;34m(\u001b[0m\u001b[0mself\u001b[0m\u001b[0;34m,\u001b[0m \u001b[0mother\u001b[0m\u001b[0;34m,\u001b[0m \u001b[0mfillvalue\u001b[0m\u001b[0;34m=\u001b[0m\u001b[0;36m0.\u001b[0m\u001b[0;34m)\u001b[0m\u001b[0;34m\u001b[0m\u001b[0;34m\u001b[0m\u001b[0m\n\u001b[0;32m----> 5\u001b[0;31m     \u001b[0;32mreturn\u001b[0m \u001b[0mVector\u001b[0m\u001b[0;34m(\u001b[0m\u001b[0ma\u001b[0m\u001b[0;34m+\u001b[0m\u001b[0mb\u001b[0m \u001b[0;32mfor\u001b[0m \u001b[0ma\u001b[0m\u001b[0;34m,\u001b[0m \u001b[0mb\u001b[0m \u001b[0;32min\u001b[0m \u001b[0mpairs\u001b[0m\u001b[0;34m)\u001b[0m\u001b[0;34m\u001b[0m\u001b[0;34m\u001b[0m\u001b[0m\n\u001b[0m\u001b[1;32m      6\u001b[0m \u001b[0;34m\u001b[0m\u001b[0m\n\u001b[1;32m      7\u001b[0m \u001b[0mVector\u001b[0m\u001b[0;34m.\u001b[0m\u001b[0m__add__\u001b[0m \u001b[0;34m=\u001b[0m \u001b[0m__add__\u001b[0m\u001b[0;34m\u001b[0m\u001b[0;34m\u001b[0m\u001b[0m\n",
      "\u001b[0;31mTypeError\u001b[0m: unsupported operand type(s) for +: 'float' and 'str'"
     ]
    }
   ],
   "source": [
    "print(v + 'abc')"
   ]
  },
  {
   "cell_type": "code",
   "execution_count": 94,
   "metadata": {},
   "outputs": [],
   "source": [
    "def __add__(self, other):\n",
    "    try:\n",
    "        pairs = itertools.zip_longest(self, other, fillvalue=0.)\n",
    "        return Vector(a+b for a, b in pairs)\n",
    "    except TypeError:\n",
    "        return NotImplemented\n",
    "    \n",
    "def __radd__(self, other):\n",
    "    return self + other\n",
    "    \n",
    "Vector.__add__ = __add__\n",
    "Vector.__radd__ = __radd__"
   ]
  },
  {
   "cell_type": "code",
   "execution_count": 96,
   "metadata": {},
   "outputs": [
    {
     "name": "stdout",
     "output_type": "stream",
     "text": [
      "call __iter__()\n"
     ]
    },
    {
     "ename": "TypeError",
     "evalue": "unsupported operand type(s) for +: 'Vector' and 'int'",
     "output_type": "error",
     "traceback": [
      "\u001b[0;31m---------------------------------------------------------------------------\u001b[0m",
      "\u001b[0;31mTypeError\u001b[0m                                 Traceback (most recent call last)",
      "\u001b[0;32m<ipython-input-96-f66d2396cea7>\u001b[0m in \u001b[0;36m<module>\u001b[0;34m\u001b[0m\n\u001b[0;32m----> 1\u001b[0;31m \u001b[0mprint\u001b[0m\u001b[0;34m(\u001b[0m\u001b[0mv\u001b[0m \u001b[0;34m+\u001b[0m \u001b[0;36m1\u001b[0m\u001b[0;34m)\u001b[0m\u001b[0;34m\u001b[0m\u001b[0;34m\u001b[0m\u001b[0m\n\u001b[0m",
      "\u001b[0;31mTypeError\u001b[0m: unsupported operand type(s) for +: 'Vector' and 'int'"
     ]
    }
   ],
   "source": [
    "print(v + 1)"
   ]
  },
  {
   "cell_type": "markdown",
   "metadata": {},
   "source": [
    "## 重载乘法运算符"
   ]
  },
  {
   "cell_type": "code",
   "execution_count": 97,
   "metadata": {},
   "outputs": [
    {
     "name": "stdout",
     "output_type": "stream",
     "text": [
      "call __iter__()\n",
      "call __init__()\n",
      "call __setattr__()\n",
      "call __str__()\n",
      "call __iter__()\n",
      "call __len__()\n",
      "(10.0, 20.0, 30.0)\n"
     ]
    }
   ],
   "source": [
    "def __mul__(self, scalar):\n",
    "    return Vector(x*scalar for x in self)\n",
    "\n",
    "def __rmul__(self, scalar):\n",
    "    return self * scalar\n",
    "\n",
    "Vector.__mul__ = __mul__\n",
    "Vector.__rmul__ = __rmul__\n",
    "\n",
    "print(v * 10)"
   ]
  },
  {
   "cell_type": "code",
   "execution_count": 98,
   "metadata": {},
   "outputs": [
    {
     "name": "stdout",
     "output_type": "stream",
     "text": [
      "call __iter__()\n",
      "call __init__()\n",
      "call __setattr__()\n",
      "call __str__()\n",
      "call __iter__()\n",
      "call __len__()\n",
      "(20.0, 40.0, 60.0)\n"
     ]
    }
   ],
   "source": [
    "print(20 * v)"
   ]
  },
  {
   "cell_type": "markdown",
   "metadata": {},
   "source": [
    "增加类型检查条件"
   ]
  },
  {
   "cell_type": "code",
   "execution_count": 100,
   "metadata": {},
   "outputs": [
    {
     "ename": "TypeError",
     "evalue": "can't multiply sequence by non-int of type 'Vector'",
     "output_type": "error",
     "traceback": [
      "\u001b[0;31m---------------------------------------------------------------------------\u001b[0m",
      "\u001b[0;31mTypeError\u001b[0m                                 Traceback (most recent call last)",
      "\u001b[0;32m<ipython-input-100-309c54ab453f>\u001b[0m in \u001b[0;36m<module>\u001b[0;34m\u001b[0m\n\u001b[1;32m     11\u001b[0m \u001b[0mVector\u001b[0m\u001b[0;34m.\u001b[0m\u001b[0m__rmul__\u001b[0m \u001b[0;34m=\u001b[0m \u001b[0m__rmul__\u001b[0m\u001b[0;34m\u001b[0m\u001b[0;34m\u001b[0m\u001b[0m\n\u001b[1;32m     12\u001b[0m \u001b[0;34m\u001b[0m\u001b[0m\n\u001b[0;32m---> 13\u001b[0;31m \u001b[0mprint\u001b[0m\u001b[0;34m(\u001b[0m\u001b[0mv\u001b[0m \u001b[0;34m*\u001b[0m \u001b[0;34m'a'\u001b[0m\u001b[0;34m)\u001b[0m\u001b[0;34m\u001b[0m\u001b[0;34m\u001b[0m\u001b[0m\n\u001b[0m",
      "\u001b[0;31mTypeError\u001b[0m: can't multiply sequence by non-int of type 'Vector'"
     ]
    }
   ],
   "source": [
    "def __mul__(self, scalar):\n",
    "    if isinstance(scalar, numbers.Real):\n",
    "        return Vector(x*scalar for x in self)\n",
    "    else:\n",
    "        return NotImplemented\n",
    "\n",
    "def __rmul__(self, scalar):\n",
    "    return self * scalar\n",
    "\n",
    "Vector.__mul__ = __mul__\n",
    "Vector.__rmul__ = __rmul__\n",
    "\n",
    "print(v * 'a')"
   ]
  },
  {
   "cell_type": "markdown",
   "metadata": {},
   "source": [
    "## 点积运算符"
   ]
  },
  {
   "cell_type": "code",
   "execution_count": 101,
   "metadata": {},
   "outputs": [
    {
     "name": "stdout",
     "output_type": "stream",
     "text": [
      "call __init__()\n",
      "call __setattr__()\n",
      "call __init__()\n",
      "call __setattr__()\n",
      "call __iter__()\n",
      "call __iter__()\n",
      "60.0\n"
     ]
    }
   ],
   "source": [
    "def __matmul__(self, other):\n",
    "    try:\n",
    "        return sum(a*b for a, b in zip(self, other))\n",
    "    except TypeError:\n",
    "        return NotImplemented\n",
    "    \n",
    "def __rmatmul__(self, other):\n",
    "    return self @ other\n",
    "\n",
    "Vector.__matmul__ = __matmul__\n",
    "Vector.__rmatmul__ = __rmatmul__\n",
    "\n",
    "v1 = Vector([1,2,3])\n",
    "v2 = Vector([10, 10, 10])\n",
    "print(v1 @ v2)"
   ]
  },
  {
   "cell_type": "markdown",
   "metadata": {},
   "source": [
    "## 比较运算符"
   ]
  },
  {
   "cell_type": "code",
   "execution_count": 103,
   "metadata": {},
   "outputs": [],
   "source": [
    "def __eq__(self, other):\n",
    "    if isinstance(other, Vector):\n",
    "        return (len(self) == len(other) and\n",
    "               all(a == b for a, b in zip(self, other)))\n",
    "    else:\n",
    "        return NotImplemented\n",
    "    \n",
    "Vector.__eq__ = __eq__"
   ]
  },
  {
   "cell_type": "code",
   "execution_count": 108,
   "metadata": {},
   "outputs": [],
   "source": [
    "class Vector2d:\n",
    "    typecode = 'd'\n",
    "    \n",
    "    def __init__(self, x, y):\n",
    "        self.x = float(x)\n",
    "        self.y = float(y)\n",
    "    \n",
    "    # 把Vector2d的实例变成可迭代对象\n",
    "    def __iter__(self):\n",
    "        print('call __iter__() of Vector2d')\n",
    "        return (i for i in (self.x, self.y))\n",
    "    \n",
    "    def __repr__(self):\n",
    "        print('call __repr__() of Vector2d')\n",
    "        class_name = type(self).__name__\n",
    "        # 因为Vector2d的实例是可迭代对象，所以*self会把x和y提供给format函数\n",
    "        return '{}({!r}, {!r})'.format(class_name, *self)\n",
    "    \n",
    "    def __str__(self):\n",
    "        print('call __str__() of Vector2d')\n",
    "        return str(tuple(self)) \n",
    "    \n",
    "    def __bytes__(self):\n",
    "        print('call __bytes__() of Vector2d')\n",
    "        return (bytes([ord(self.typecode)]) + \n",
    "                bytes(array(self.typecode, self)))\n",
    "    \n",
    "    def __eq__(self, other):\n",
    "        print('call __eq__() of Vector2d')\n",
    "        return tuple(self) == tuple(other)\n",
    "    \n",
    "    def __abs__(self):\n",
    "        print('call __abs__() of Vector2d')\n",
    "        return math.hypot(self.x, self.y)\n",
    "    \n",
    "    def __bool__(self):\n",
    "        print('call __bool__() of Vector2d')\n",
    "        return bool(abs(self))\n",
    "    \n",
    "    # classmethod装饰器装饰的方法，只能由class本身调用而不是其实例\n",
    "    @classmethod  \n",
    "    def frombytes(cls, octets):\n",
    "        typecode = chr(octets[0])\n",
    "        memv = memoryview(octets[1:]).cast(typecode)\n",
    "        print('memv: ', *memv)\n",
    "        return cls(*memv)\n",
    "    \n",
    "    def angle(self):\n",
    "        return math.atan2(self.y, self.x)\n",
    "    \n",
    "    def __format__(self, fmt_spec=''):\n",
    "        # 如果传入的格式化字符串是以'p'结尾，那么就使用极坐标表示\n",
    "        if fmt_spec.endswith('p'):\n",
    "            fmt_spec = fmt_spec[:-1]\n",
    "            coords = (abs(self), self.angle())\n",
    "            out_fmt = '<{}, {}>'\n",
    "        else:\n",
    "            coords = self\n",
    "            out_fmt = '({}, {})'\n",
    "        components = (format(c, fmt_spec) for c in coords)\n",
    "        return out_fmt.format(*components)"
   ]
  },
  {
   "cell_type": "code",
   "execution_count": 109,
   "metadata": {},
   "outputs": [
    {
     "name": "stdout",
     "output_type": "stream",
     "text": [
      "call __init__()\n",
      "call __setattr__()\n",
      "call __eq__() of Vector2d\n",
      "call __iter__() of Vector2d\n",
      "call __iter__()\n",
      "call __len__()\n",
      "True\n"
     ]
    }
   ],
   "source": [
    "v_2d = Vector2d(1, 2)\n",
    "v_nd = Vector([1, 2])\n",
    "print(v_nd == v_2d)"
   ]
  },
  {
   "cell_type": "markdown",
   "metadata": {},
   "source": [
    "**为什么Vector的`'__eq__()'`方法加了类型检查，上式还是判断为`True`？**\n",
    "\n",
    "1. 为了计算`v_nd == v_2d`，Python首先调用`Vector.__eq__(v_nd, v_2d)`\n",
    "2. 经`Vector.__eq__(v_nd, v_2d)`确认，`v_2d`不是`Vector`的实例，因此返回`NotImplemented`\n",
    "3. Python得到`NotImplemented`结果，尝试调用`class Vector2d`的`__eq__()`方法，计算`tuple(v_2d) == tuple(v_nd)`，结果返回`True`"
   ]
  },
  {
   "cell_type": "code",
   "execution_count": 110,
   "metadata": {},
   "outputs": [
    {
     "name": "stdout",
     "output_type": "stream",
     "text": [
      "call __init__()\n",
      "call __setattr__()\n",
      "call __eq__() of Vector2d\n",
      "call __iter__() of Vector2d\n",
      "call __iter__()\n",
      "call __len__()\n",
      "False\n"
     ]
    }
   ],
   "source": [
    "v_nd_2 = Vector([1, 2, 3])\n",
    "print(v_nd_2 == v_2d)"
   ]
  },
  {
   "cell_type": "markdown",
   "metadata": {},
   "source": [
    "1. 为了计算`v_nd == v_2d`，Python首先调用`Vector.__eq__(v_nd, v_2d)`\n",
    "2. 经`Vector.__eq__(v_nd, v_2d)`确认，`v_2d`不是`Vector`的实例，因此返回`NotImplemented`\n",
    "3. Python得到`NotImplemented`结果，尝试调用`class Vector2d`的`__eq__()`方法，计算`tuple(v_2d) == tuple(v_nd_2)`，结果返回`False`"
   ]
  },
  {
   "cell_type": "markdown",
   "metadata": {},
   "source": [
    "## !=运算符\n",
    "\n",
    "当我们实现了`==`运算符后，就不再需要实现`!=`运算符了，因为Python会自动启用后备行为，使用`__eq__()`返回的结果的反面作为`__ne__()`的结果."
   ]
  },
  {
   "cell_type": "code",
   "execution_count": 117,
   "metadata": {},
   "outputs": [
    {
     "name": "stdout",
     "output_type": "stream",
     "text": [
      "call __init__()\n",
      "call __setattr__()\n"
     ]
    },
    {
     "data": {
      "text/plain": [
       "(140461673498896, 140461673498896)"
      ]
     },
     "execution_count": 117,
     "metadata": {},
     "output_type": "execute_result"
    }
   ],
   "source": [
    "v1 = Vector([1,2,3])\n",
    "v1_alias = v1\n",
    "id(v1), id(v1_alias)"
   ]
  },
  {
   "cell_type": "code",
   "execution_count": 118,
   "metadata": {},
   "outputs": [
    {
     "name": "stdout",
     "output_type": "stream",
     "text": [
      "call __iter__()\n",
      "call __iter__()\n",
      "call __init__()\n",
      "call __setattr__()\n"
     ]
    }
   ],
   "source": [
    "v1 += v1"
   ]
  },
  {
   "cell_type": "code",
   "execution_count": 116,
   "metadata": {},
   "outputs": [
    {
     "name": "stdout",
     "output_type": "stream",
     "text": [
      "call __getattr__()\n",
      "call __getattr__()\n",
      "call __getattr__()\n",
      "call __getattr__()\n",
      "call __repr__()\n",
      "call __getattr__()\n",
      "call __getattr__()\n",
      "call __getattr__()\n",
      "call __getattr__()\n",
      "call __getattr__()\n",
      "call __getattr__()\n",
      "call __getattr__()\n",
      "call __getattr__()\n",
      "call __getattr__()\n",
      "call __getattr__()\n",
      "call __getattr__()\n",
      "call __getattr__()\n",
      "call __getattr__()\n",
      "call __getattr__()\n",
      "call __getattr__()\n",
      "call __getattr__()\n",
      "call __getattr__()\n",
      "call __getattr__()\n"
     ]
    },
    {
     "data": {
      "text/plain": [
       "Vector([2.0, 4.0, 6.0])"
      ]
     },
     "execution_count": 116,
     "metadata": {},
     "output_type": "execute_result"
    }
   ],
   "source": [
    "v1"
   ]
  },
  {
   "cell_type": "code",
   "execution_count": 119,
   "metadata": {},
   "outputs": [
    {
     "data": {
      "text/plain": [
       "140461540722960"
      ]
     },
     "execution_count": 119,
     "metadata": {},
     "output_type": "execute_result"
    }
   ],
   "source": [
    "id(v1)"
   ]
  },
  {
   "cell_type": "markdown",
   "metadata": {},
   "source": [
    "如果一个class没有实现inplace运算符，增量赋值运算符只是语法糖:`a += b`的作用与`a = a + b`完全一样。而且，如果定义了`__add__()`方法的话，不用额外编写代码，就能使用`+=`运算符了。\n",
    "\n",
    "对于不可变类型来说，实现`__add__()`等运算符就足够了，但对于可变类型来说实现`__iadd__()`等就地运算符可以更有效率。\n",
    "\n",
    "就地增量运算符必须返回`self`\n",
    "\n",
    "如果中缀运算符的正向方法（如`__mul__`）**只处理与self属于同一类型的操作数**，那就无需实现反向方法（如`__rmul__()`），因为按照定义，**反向方法是为了处理类型不同的操作数**。"
   ]
  },
  {
   "cell_type": "code",
   "execution_count": null,
   "metadata": {},
   "outputs": [],
   "source": []
  }
 ],
 "metadata": {
  "kernelspec": {
   "display_name": "Python 3",
   "language": "python",
   "name": "python3"
  },
  "language_info": {
   "codemirror_mode": {
    "name": "ipython",
    "version": 3
   },
   "file_extension": ".py",
   "mimetype": "text/x-python",
   "name": "python",
   "nbconvert_exporter": "python",
   "pygments_lexer": "ipython3",
   "version": "3.7.6"
  }
 },
 "nbformat": 4,
 "nbformat_minor": 4
}
