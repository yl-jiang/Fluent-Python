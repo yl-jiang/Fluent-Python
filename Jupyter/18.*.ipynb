{
 "cells": [
  {
   "cell_type": "markdown",
   "metadata": {},
   "source": [
    "## 线程和协程"
   ]
  },
  {
   "cell_type": "markdown",
   "metadata": {},
   "source": [
    "### 线程"
   ]
  },
  {
   "cell_type": "markdown",
   "metadata": {},
   "source": [
    "这个一个多线程的显示脚本，一共两个线程，主线程负责显示最后的输出，开辟的子线程负责显示转圈圈。"
   ]
  },
  {
   "cell_type": "code",
   "execution_count": 3,
   "metadata": {},
   "outputs": [],
   "source": [
    "import threading \n",
    "import itertools \n",
    "import time \n",
    "import sys \n",
    "\n",
    "class Signal: \n",
    "    go = True \n",
    "    \n",
    "def spin(msg, signal): \n",
    "    write, flush = sys.stdout.write, sys.stdout.flush\n",
    "    for char in itertools.cycle('|/-\\\\'): \n",
    "        status = char + ' ' + msg\n",
    "        write(status)\n",
    "        flush()\n",
    "        write('\\x08' * len(status))\n",
    "        time.sleep(.1)\n",
    "        if not signal.go:\n",
    "            break\n",
    "    write(' ' * len(status) + '\\x08' * len(status)) \n",
    "    \n",
    "def slow_function():\n",
    "    # 假装等待I/O一段时间\n",
    "    time.sleep(3) \n",
    "    return 42 \n",
    "\n",
    "def supervisor():\n",
    "    signal = Signal()\n",
    "    # 设置一个从属线程\n",
    "    spinner = threading.Thread(target=spin,args=('thinking!', signal))\n",
    "    print('spinner object:', spinner)\n",
    "    # 启动从属线程\n",
    "    spinner.start()\n",
    "    # 运行slow_function函数，阻塞主线程，从而使得从属线程得以运行\n",
    "    result = slow_function()\n",
    "    signal.go = False\n",
    "    # 等待从属线程结束\n",
    "    spinner.join()\n",
    "    return result \n",
    "\n",
    "def main():\n",
    "    result = supervisor()\n",
    "    print('Answer:', result) "
   ]
  },
  {
   "cell_type": "code",
   "execution_count": 4,
   "metadata": {},
   "outputs": [
    {
     "name": "stdout",
     "output_type": "stream",
     "text": [
      "spinner object: <Thread(Thread-4, initial)>\n",
      "| thinking/ thinking- thinking\\ thinking| thinking/ thinking- thinking\\ thinking| thinking/ thinking- thinking\\ thinking| thinking/ thinking- thinking\\ thinking| thinking/ thinking- thinking\\ thinking| thinking/ thinking- thinking\\ thinking| thinking/ thinking- thinking\\ thinking| thinking/ thinking          Answer: 42\n"
     ]
    }
   ],
   "source": [
    "main()"
   ]
  },
  {
   "cell_type": "markdown",
   "metadata": {},
   "source": [
    "ython 没有提供终止线程的 API，这是有意为之的。若想关闭线 程，必须给线程发送消息。"
   ]
  },
  {
   "cell_type": "markdown",
   "metadata": {},
   "source": [
    "### 协程"
   ]
  },
  {
   "cell_type": "markdown",
   "metadata": {},
   "source": [
    "协程版本，最后的协程`supervisor()`里面一共有两个任务，通过`await asyncio.sleep()`切换协程的工作。\n",
    "\n",
    "从Python3.5开始协程用`async 与await` 代替了`@asyncio.coroutine`与`yield.from`"
   ]
  },
  {
   "cell_type": "code",
   "execution_count": 5,
   "metadata": {},
   "outputs": [],
   "source": [
    "import asyncio \n",
    "import itertools \n",
    "import sys \n",
    "\n",
    "async def spin(msg):\n",
    "    write, flush = sys.stdout.write, sys.stdout.flush\n",
    "    for char in itertools.cycle('|/-\\\\'):\n",
    "        status = char + ' ' + msg\n",
    "        write(status)\n",
    "        flush()\n",
    "        # 继续回到初始位置\n",
    "        write('\\x08' * len(status))\n",
    "        try:\n",
    "            await asyncio.sleep(.1)\n",
    "        # 捕获错误\n",
    "        except asyncio.CancelledError:\n",
    "            break\n",
    "    write(' ' * len(status) + '\\x08' * len(status))\n",
    "    \n",
    "async def slow_function():\n",
    "    await asyncio.sleep(3)\n",
    "    return 42\n",
    "\n",
    "async def supervisor():\n",
    "    # 把协程包装成为一个task任务\n",
    "    spinner = asyncio.ensure_future(spin('thinking!'))\n",
    "    # 已经是一个任务的，返回的还是一个任务\n",
    "    spinner = asyncio.ensure_future(spinner)\n",
    "    print('spinner object:', spinner)\n",
    "    # 激活等待slow_function任务，由于slow_function里面有sleep，到时候会把控制权转给spinnner\n",
    "    # 因为Python在遇到time.sleep()时，会解锁GIL\n",
    "    slow_function1 = asyncio.ensure_future(slow_function())\n",
    "    result = await slow_function1\n",
    "    # 得到result，取消spinner任务\n",
    "    # await asyncio.sleep(5)\n",
    "    spinner.cancel()\n",
    "    return result\n",
    " \n",
    "def main():\n",
    "    loop = asyncio.get_event_loop()\n",
    "    result = loop.run_until_complete(supervisor())\n",
    "    loop.close()\n",
    "    print('Answer', result)"
   ]
  },
  {
   "cell_type": "code",
   "execution_count": 6,
   "metadata": {
    "scrolled": true
   },
   "outputs": [
    {
     "ename": "RuntimeError",
     "evalue": "This event loop is already running",
     "output_type": "error",
     "traceback": [
      "\u001b[0;31m---------------------------------------------------------------------------\u001b[0m",
      "\u001b[0;31mRuntimeError\u001b[0m                              Traceback (most recent call last)",
      "\u001b[0;32m<ipython-input-6-263240bbee7e>\u001b[0m in \u001b[0;36m<module>\u001b[0;34m\u001b[0m\n\u001b[0;32m----> 1\u001b[0;31m \u001b[0mmain\u001b[0m\u001b[0;34m(\u001b[0m\u001b[0;34m)\u001b[0m\u001b[0;34m\u001b[0m\u001b[0;34m\u001b[0m\u001b[0m\n\u001b[0m",
      "\u001b[0;32m<ipython-input-5-979fa14abc2d>\u001b[0m in \u001b[0;36mmain\u001b[0;34m()\u001b[0m\n\u001b[1;32m     38\u001b[0m \u001b[0;32mdef\u001b[0m \u001b[0mmain\u001b[0m\u001b[0;34m(\u001b[0m\u001b[0;34m)\u001b[0m\u001b[0;34m:\u001b[0m\u001b[0;34m\u001b[0m\u001b[0;34m\u001b[0m\u001b[0m\n\u001b[1;32m     39\u001b[0m     \u001b[0mloop\u001b[0m \u001b[0;34m=\u001b[0m \u001b[0masyncio\u001b[0m\u001b[0;34m.\u001b[0m\u001b[0mget_event_loop\u001b[0m\u001b[0;34m(\u001b[0m\u001b[0;34m)\u001b[0m\u001b[0;34m\u001b[0m\u001b[0;34m\u001b[0m\u001b[0m\n\u001b[0;32m---> 40\u001b[0;31m     \u001b[0mresult\u001b[0m \u001b[0;34m=\u001b[0m \u001b[0mloop\u001b[0m\u001b[0;34m.\u001b[0m\u001b[0mrun_until_complete\u001b[0m\u001b[0;34m(\u001b[0m\u001b[0msupervisor\u001b[0m\u001b[0;34m(\u001b[0m\u001b[0;34m)\u001b[0m\u001b[0;34m)\u001b[0m\u001b[0;34m\u001b[0m\u001b[0;34m\u001b[0m\u001b[0m\n\u001b[0m\u001b[1;32m     41\u001b[0m     \u001b[0mloop\u001b[0m\u001b[0;34m.\u001b[0m\u001b[0mclose\u001b[0m\u001b[0;34m(\u001b[0m\u001b[0;34m)\u001b[0m\u001b[0;34m\u001b[0m\u001b[0;34m\u001b[0m\u001b[0m\n\u001b[1;32m     42\u001b[0m     \u001b[0mprint\u001b[0m\u001b[0;34m(\u001b[0m\u001b[0;34m'Answer'\u001b[0m\u001b[0;34m,\u001b[0m \u001b[0mresult\u001b[0m\u001b[0;34m)\u001b[0m\u001b[0;34m\u001b[0m\u001b[0;34m\u001b[0m\u001b[0m\n",
      "\u001b[0;32m~/anaconda3/envs/fun/lib/python3.7/asyncio/base_events.py\u001b[0m in \u001b[0;36mrun_until_complete\u001b[0;34m(self, future)\u001b[0m\n\u001b[1;32m    568\u001b[0m         \u001b[0mfuture\u001b[0m\u001b[0;34m.\u001b[0m\u001b[0madd_done_callback\u001b[0m\u001b[0;34m(\u001b[0m\u001b[0m_run_until_complete_cb\u001b[0m\u001b[0;34m)\u001b[0m\u001b[0;34m\u001b[0m\u001b[0;34m\u001b[0m\u001b[0m\n\u001b[1;32m    569\u001b[0m         \u001b[0;32mtry\u001b[0m\u001b[0;34m:\u001b[0m\u001b[0;34m\u001b[0m\u001b[0;34m\u001b[0m\u001b[0m\n\u001b[0;32m--> 570\u001b[0;31m             \u001b[0mself\u001b[0m\u001b[0;34m.\u001b[0m\u001b[0mrun_forever\u001b[0m\u001b[0;34m(\u001b[0m\u001b[0;34m)\u001b[0m\u001b[0;34m\u001b[0m\u001b[0;34m\u001b[0m\u001b[0m\n\u001b[0m\u001b[1;32m    571\u001b[0m         \u001b[0;32mexcept\u001b[0m\u001b[0;34m:\u001b[0m\u001b[0;34m\u001b[0m\u001b[0;34m\u001b[0m\u001b[0m\n\u001b[1;32m    572\u001b[0m             \u001b[0;32mif\u001b[0m \u001b[0mnew_task\u001b[0m \u001b[0;32mand\u001b[0m \u001b[0mfuture\u001b[0m\u001b[0;34m.\u001b[0m\u001b[0mdone\u001b[0m\u001b[0;34m(\u001b[0m\u001b[0;34m)\u001b[0m \u001b[0;32mand\u001b[0m \u001b[0;32mnot\u001b[0m \u001b[0mfuture\u001b[0m\u001b[0;34m.\u001b[0m\u001b[0mcancelled\u001b[0m\u001b[0;34m(\u001b[0m\u001b[0;34m)\u001b[0m\u001b[0;34m:\u001b[0m\u001b[0;34m\u001b[0m\u001b[0;34m\u001b[0m\u001b[0m\n",
      "\u001b[0;32m~/anaconda3/envs/fun/lib/python3.7/asyncio/base_events.py\u001b[0m in \u001b[0;36mrun_forever\u001b[0;34m(self)\u001b[0m\n\u001b[1;32m    523\u001b[0m         \u001b[0mself\u001b[0m\u001b[0;34m.\u001b[0m\u001b[0m_check_closed\u001b[0m\u001b[0;34m(\u001b[0m\u001b[0;34m)\u001b[0m\u001b[0;34m\u001b[0m\u001b[0;34m\u001b[0m\u001b[0m\n\u001b[1;32m    524\u001b[0m         \u001b[0;32mif\u001b[0m \u001b[0mself\u001b[0m\u001b[0;34m.\u001b[0m\u001b[0mis_running\u001b[0m\u001b[0;34m(\u001b[0m\u001b[0;34m)\u001b[0m\u001b[0;34m:\u001b[0m\u001b[0;34m\u001b[0m\u001b[0;34m\u001b[0m\u001b[0m\n\u001b[0;32m--> 525\u001b[0;31m             \u001b[0;32mraise\u001b[0m \u001b[0mRuntimeError\u001b[0m\u001b[0;34m(\u001b[0m\u001b[0;34m'This event loop is already running'\u001b[0m\u001b[0;34m)\u001b[0m\u001b[0;34m\u001b[0m\u001b[0;34m\u001b[0m\u001b[0m\n\u001b[0m\u001b[1;32m    526\u001b[0m         \u001b[0;32mif\u001b[0m \u001b[0mevents\u001b[0m\u001b[0;34m.\u001b[0m\u001b[0m_get_running_loop\u001b[0m\u001b[0;34m(\u001b[0m\u001b[0;34m)\u001b[0m \u001b[0;32mis\u001b[0m \u001b[0;32mnot\u001b[0m \u001b[0;32mNone\u001b[0m\u001b[0;34m:\u001b[0m\u001b[0;34m\u001b[0m\u001b[0;34m\u001b[0m\u001b[0m\n\u001b[1;32m    527\u001b[0m             raise RuntimeError(\n",
      "\u001b[0;31mRuntimeError\u001b[0m: This event loop is already running"
     ]
    },
    {
     "name": "stdout",
     "output_type": "stream",
     "text": [
      "spinner object: <Task pending coro=<spin() running at <ipython-input-5-979fa14abc2d>:5>>\n",
      "| thinking/ thinking- thinking\\ thinking| thinking/ thinking- thinking\\ thinking| thinking/ thinking- thinking\\ thinking| thinking/ thinking- thinking\\ thinking| thinking/ thinking- thinking\\ thinking| thinking/ thinking- thinking\\ thinking| thinking/ thinking- thinking\\ thinking| thinking/ thinking          "
     ]
    }
   ],
   "source": [
    "main()"
   ]
  },
  {
   "cell_type": "markdown",
   "metadata": {},
   "source": [
    "`asyncio.ensure_future（...）`接收的是一个协程，排定它的运行时间，然后返回个`asyncio.Task`实例，也就是`asyncio.Future`的实例，因为`Task`是`Future`的子类，用于包装协程。\n",
    "\n",
    "`task`或者`future`都有`.done()`, `.add_done_callback(....)`和`.result()`等方法，只不过这些方法一般用的比较少，只要`result=await myfuture()`，其中`await`后面需要回调的参数就是,`result`就是`task`的`result`。\n",
    "\n",
    "无需调用m`y_future.add_done_callback(...)`，因为可以直接把想在`future`运行结束后执行的操作放在协程中 `await my_futre`表达式的后面。这个是协程的一大优势：协程是可以暂停和恢复函数的。\n",
    "\n",
    "无需调用`my_future.result()`,因为`await` 从 `future`中产出的值就是结果。（列如，`result = await my_future`）。"
   ]
  },
  {
   "cell_type": "markdown",
   "metadata": {},
   "source": [
    "**在一个`asyncio`中，基本的流程是一样的：在一个单线程程序中使用主循环一次激活队列里的协程。各个协程向前执行几步，然后把控制权让给主循环，主循环再激活队列里的下一个协程。**"
   ]
  },
  {
   "cell_type": "markdown",
   "metadata": {},
   "source": [
    "协程不能直接调用，即不能像调用普通函数那样来启动回调链。我们必须使用事件循环显式排定协程的执行时间，或者在其他排定了执行时间的协程中使用 await 表达式把它激活。"
   ]
  },
  {
   "cell_type": "code",
   "execution_count": null,
   "metadata": {},
   "outputs": [],
   "source": [
    "import asyncio\n",
    "import aiohttp\n",
    "\n",
    "async def get_flag(cc):\n",
    "    url = f'{BASE_URL}/{cc}/{cc.lower()}.gif'\n",
    "    async with aiohttp.ClientSeeeion() as sess:\n",
    "        # 运行底层库函数session.get(url)\n",
    "        async with sess.get(url) as resp:\n",
    "            # resp.read()是一个协程，必须使用await语句获取响应内容\n",
    "            image = await resp.read()\n",
    "    return image\n",
    "\n",
    "async def download_one(cc):\n",
    "    # 管道传递给下一个协程函数\n",
    "    img = await get_flag(cc)\n",
    "    show(cc)\n",
    "    save_flag(img, cc.lower() + '.gif')\n",
    "    return cc\n",
    "\n",
    "def download_many(cc_list):\n",
    "    # 创建事件循环\n",
    "    loop = asyncio.get_event_loop()\n",
    "    to_do = [download_one(cc) for cc in soretd(cc_list)]\n",
    "    # asyncio.wait()函数不是阻塞性函数，wait是一个协程，等传给它的所有协程运行完毕后结束\n",
    "    wait_coro = asyncio.wait(to_do)\n",
    "    # 执行事件循环，运行wait_coro里面的task，事件执行过程中，这个脚本会在这里阻塞\n",
    "    res, _ = loop.run_until_complent(wait_coro)\n",
    "    # 关闭事件循环\n",
    "    loop.close()\n",
    "    return len(res)"
   ]
  },
  {
   "cell_type": "markdown",
   "metadata": {},
   "source": [
    "尽管线程版和 asyncio 版 HTTP 客户端的下载总时间相差无几， 但是 asyncio 版发送请求的速度更快."
   ]
  },
  {
   "cell_type": "markdown",
   "metadata": {},
   "source": [
    "**异步操作是交叉执行的。**\n",
    "\n",
    "在 `download_many` 函数中调用 `loop.run_until_complete` 方法时，事件循环驱动各个 `download_one` 协程.各个 `download_one` 协程运行到第一个 `await` 表达式处，那个表达式又驱动各个 `get_flag` 协程，运行到第一个 `await` 表达式处， 调用 `aiohttp.request(...)` 函数。这些调用都不会阻塞，因此在零点几秒内所有请求全部开始。\n",
    "\n",
    "`asyncio` 的基础设施获得第一个响应后，事件循环把响应发给等待结果的 `get_flag` 协程。得到响应后，`get_flag` 向前执行到下一个 `await` 表达式处，调用 `resp.read()` 方法，然后把控制权还给主循环。 其他响应会陆续返回（因为请求几乎同时发出）。**所有 `get_ flag` 协程都获得结果后**，委派生成器 `download_one` 恢复，保存图像文件。"
   ]
  },
  {
   "cell_type": "markdown",
   "metadata": {},
   "source": [
    "`loop.run_until_complete` 方法的参数是一个期物或协程。如果是协 程，`run_until_complete` 方法与 `wait` 函数一样，把协程包装进一个 `Task` 对象中。\n",
    "\n",
    "每次请求时，`download_many`函数会创建一个`download_one`协程对象。这些协程对象先使用`asyncio.wait`协程包装，然后由`loop.run_until_complete`方法驱动。\n",
    "\n",
    "`await foo`句法能防止阻塞，是因为当前协程（即包含`await`代码的委派生成器）暂停后，控制权回到事件循环手中，再去驱动其它协程；`foo`期物或协程运行完毕后，把结果返回给暂停的协程，将其恢复。\n",
    "\n",
    "使用 `asyncio` 包时，我们编写的代码不通过调用 `next(...)` 函数或 `.send(...)` 方法驱动协程——这一点由 `asyncio` 包实现的事件循环去做。 \n",
    "\n",
    "概括起来就是：使用 asyncio 包时，我们编写的异步代码中包含由 asyncio 本身驱动的协程（即委派生成器），而生成器最终把职责委托 给 asyncio 包或第三方库（如 aiohttp）中的协程。这种处理方式相 当于架起了管道，让 asyncio 事件循环（通过我们编写的协程）驱动 执行低层异步 I/O 操作的库函数。"
   ]
  },
  {
   "cell_type": "markdown",
   "metadata": {},
   "source": [
    "## 避免阻塞型调用 "
   ]
  },
  {
   "cell_type": "markdown",
   "metadata": {},
   "source": [
    "有两种方法能避免阻塞型调用中止整个应用程序的进程： \n",
    "\n",
    "+ 在单独的线程中运行各个阻塞型操作 \n",
    "+ 把每个阻塞型操作转换成非阻塞的异步调用使用。\n",
    "\n",
    "多个线程是可以的，但是各个操作系统线程（Python 使用的是这种线 程）消耗的内存达兆字节（具体的量取决于操作系统种类）。如果要处理几千个连接，而每个连接都使用一个线程的话，我们负担不起。\n",
    "\n",
    "为了降低内存的消耗，通常使用回调来实现异步调用。\n",
    "\n",
    "把生成器当作协程使用是异步编程的另一种方式。对事件循环来说，调用回调与在暂停的协程上调用 `.send()` 方法效果差不多。各个暂停的协程是要消耗内存，但是比线程消耗的内存数量级小。而且，协程能避免可怕的“回调地狱”。\n",
    "\n",
    "使用 asyncio 包的程序中只有一个主线程，而在这个线程中不能有阻塞型调用，因为事件循环也在这个线程中运行。"
   ]
  },
  {
   "cell_type": "markdown",
   "metadata": {},
   "source": [
    "可以接收错误，并且在保存图片的时候，也采取了异步的措施."
   ]
  },
  {
   "cell_type": "code",
   "execution_count": 8,
   "metadata": {},
   "outputs": [],
   "source": [
    "import asyncio\n",
    "import collections\n",
    "import aiohttp\n",
    "from aiohttp import web\n",
    "import tqdm"
   ]
  },
  {
   "cell_type": "code",
   "execution_count": 9,
   "metadata": {},
   "outputs": [],
   "source": [
    "DEFAULT_CONCUR_REQ = 5 \n",
    "MAX_CONCUR_REQ = 1000"
   ]
  },
  {
   "cell_type": "code",
   "execution_count": null,
   "metadata": {},
   "outputs": [],
   "source": [
    "class FetchError(Exception):\n",
    "    def __init__(self, country_code):\n",
    "        # 继承父类的args添加属性,python cookbook书中介绍最好这样写\n",
    "        super(FetchError, self).__init__(country_code)\n",
    "        self.country_code = country_code\n",
    "        \n",
    "        \n",
    "async def get_flag(base_url, cc):\n",
    "    url = f'{base_url}/{cc}/{cc.lower()}.gif'\n",
    "    async with aiohttp.ClientSession() as sess:\n",
    "        async with sess.get(url) as resp:\n",
    "            # 正常响应\n",
    "            if resp.status == 200:\n",
    "                img = await resp.read()\n",
    "                return img\n",
    "            # 404错误\n",
    "            elif resp.status == 404:\n",
    "                raise web.HTTPNotFound\n",
    "            # 其他错误\n",
    "            else:\n",
    "                raise aiohttp.ClientHttpProxyError(code=resp.status, \n",
    "                                                  message=resp.reason,\n",
    "                                                  headers=resp.headers)\n",
    "                \n",
    "                \n",
    "async def download_one(cc, base_url, semaphore, verbose):\n",
    "    try:\n",
    "        # 这段代码保证，任何时候都不会有超过 concur_req 个 get_flag 协程启动。 \n",
    "        with (await semaphore):\n",
    "            img = await get_flag(base_url, cc)\n",
    "    # 404\n",
    "    except web.HTTPNotFound:\n",
    "        # 用Enum关系表达式保存status\n",
    "        status = HTTPStatus.not_found\n",
    "        msg = 'not found'\n",
    "    # 其它引起的报错为基础错误Exception，上浮给调用者\n",
    "    except Exception as exc:\n",
    "        # download_one 函数抛出的各个异常都包装在 FetchError 对象里， 并且链接原来的异常;raise X from Y 句法链接原来的异常。 \n",
    "        raise FetchError(cc) from exc\n",
    "    # 正常情况下，保存图片\n",
    "    else:\n",
    "        loop = asyncio.get_event_loop()\n",
    "        # run_in_executor方法的第一个参数是Executor实例；如果设为None，使用事件循环的默认为ThreadPoolExecutor\n",
    "        # 余下的参数是可调用的对象，以及可调用对象的位置参数。\n",
    "        loop.run_in_executor(None, save_flag, img, cc.lower()+'.gif')\n",
    "        status = HTTPStatus.ok\n",
    "        msg = 'ok'\n",
    "    if verbose and msg:\n",
    "        print(cc, msg)\n",
    "    return Result(status, cc)\n",
    "\n",
    "\n",
    "async def download_coro(cc_list, base_url, verbose, concur_rep):\n",
    "    counter = collections.Counter()\n",
    "    # Semaphore 类是同步装置，用于限制并发请求数量。 \n",
    "    semaphore = asyncio.Semaphore(concur_rep)\n",
    "    # 多次调用 download_one 协程，创建一个协程对象列表\n",
    "    to_do = [download_one(cc, base_url, semaphore, verbose) for cc in cc_list]\n",
    "    #  as_completed 函数必须在协程中调用\n",
    "    to_do_iter = asyncio.as_completed(to_do)\n",
    "    \n",
    "    if not verbose:\n",
    "        to_do_iter = tqdm.tqdm(to_do_iter, total=len(cc_list))\n",
    "        for future in to_do_iter:\n",
    "            try:\n",
    "                # 迭代运行结束的期物；获取 asyncio.Future 对象的结果，最简单的方法是使用 await，而不是调用 future.result()\n",
    "                res = await future\n",
    "            # 因为download_one函数的所有异常都被包装在FetchError对象里\n",
    "            except FetchError as exc:\n",
    "                country_code = exc.country_code\n",
    "                 # 尝试获取引起错误的实例的参数args\n",
    "                try:\n",
    "                    # 尝试从原来的异常（__cause__)中获取错误消息\n",
    "                    error_msg = exc.__cause__.args[0]\n",
    "                # 如果由于取不到索引而引起错误的实例的类的名字\n",
    "                except IndexError:\n",
    "                    # 如果在原来的异常中找不到错误消息，使用所链接异常的类名作为错误消息\n",
    "                    error_msg = sec.__cause__.__class__.__name\n",
    "                if verbose and error_msg:\n",
    "                    msg = '*** Error for {}: {}'\n",
    "                    print(msg.format(country_code, error_msg))\n",
    "                # 其他的错误类型用Enum的最后一种关系表达式\n",
    "                status = HTTPStatus.error\n",
    "            else:\n",
    "                status = res.status\n",
    "            # 统计各种状态\n",
    "            counter[status] += 1\n",
    "        return counter\n",
    "    \n",
    "\n",
    "def download_many(cc_list, base_url, verbose, concur_rep):\n",
    "    \"\"\"\n",
    "    download_many 函数只是实例化 downloader_coro 协程，然后通过 run_until_complete 方法把它传给事件循环。\n",
    "    现在，download_many 函数只用于设置事件循环，并把 downloader_coro 协程传给 loop.run_until_complete 方法，调度 downloader_coro。 \n",
    "    \"\"\"\n",
    "    loop = asyncio.get_event_loop()\n",
    "    coro = download_coro(cc_list, base_url, verbose, concur_rep)\n",
    "    counts = loop.run_until_complete(coro)\n",
    "    loop.close()\n",
    "    return counts"
   ]
  },
  {
   "cell_type": "markdown",
   "metadata": {},
   "source": [
    "为什么将`save_flag` 函数包装在`run_in_executor()`中？\n",
    "\n",
    "`save_flag` 函数会执行硬盘 I/O 操作，而这应该异步执行。`save_flag` 函数阻塞了客户代码与 `asyncio` 事件循环共用的唯一线程，因此保存文件时，整个应用程序都会冻结。阻塞型 I/O 调用在背后会释放 GIL，因此另一个线程可以继续。\n",
    "\n",
    "`asyncio` 的事件循环在背后维护着一个 `ThreadPoolExecutor` 对象， 我们可以调用 `run_in_executor` 方法，把可调用的对象发给它执行。"
   ]
  }
 ],
 "metadata": {
  "kernelspec": {
   "display_name": "Python 3",
   "language": "python",
   "name": "python3"
  },
  "language_info": {
   "codemirror_mode": {
    "name": "ipython",
    "version": 3
   },
   "file_extension": ".py",
   "mimetype": "text/x-python",
   "name": "python",
   "nbconvert_exporter": "python",
   "pygments_lexer": "ipython3",
   "version": "3.7.6"
  }
 },
 "nbformat": 4,
 "nbformat_minor": 4
}
