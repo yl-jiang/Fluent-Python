{
 "cells": [
  {
   "cell_type": "markdown",
   "metadata": {},
   "source": [
    "# 上下文管理器和else"
   ]
  },
  {
   "cell_type": "markdown",
   "metadata": {},
   "source": [
    "with语句会设置一个临时的上下文，交给上下文管理其对象控制，并负责清理上下文。"
   ]
  },
  {
   "cell_type": "markdown",
   "metadata": {},
   "source": [
    "for与else：\n",
    "    仅当for循环运行完毕（即for循环没有被break语句中断）才运行else语句块\n",
    "while与else：\n",
    "    仅当while循环因为条件为假值而退出时（即while循环没有被break语句终止）才运行else语句块\n",
    "    \n",
    "在所有情况下，如果异常或者return，break，或continue语句导致控制权跳到了复合语句的主块之外，else子句也会被跳过。"
   ]
  },
  {
   "cell_type": "code",
   "execution_count": 1,
   "metadata": {
    "scrolled": true
   },
   "outputs": [
    {
     "ename": "NameError",
     "evalue": "name 'dangerous_call' is not defined",
     "output_type": "error",
     "traceback": [
      "\u001b[0;31m---------------------------------------------------------------------------\u001b[0m",
      "\u001b[0;31mNameError\u001b[0m                                 Traceback (most recent call last)",
      "\u001b[0;32m<ipython-input-1-b8615747e27e>\u001b[0m in \u001b[0;36m<module>\u001b[0;34m\u001b[0m\n\u001b[1;32m      1\u001b[0m \u001b[0;32mtry\u001b[0m\u001b[0;34m:\u001b[0m\u001b[0;34m\u001b[0m\u001b[0;34m\u001b[0m\u001b[0m\n\u001b[0;32m----> 2\u001b[0;31m     \u001b[0mdangerous_call\u001b[0m\u001b[0;34m(\u001b[0m\u001b[0;34m)\u001b[0m\u001b[0;34m\u001b[0m\u001b[0;34m\u001b[0m\u001b[0m\n\u001b[0m\u001b[1;32m      3\u001b[0m \u001b[0;32mexcept\u001b[0m \u001b[0mOSError\u001b[0m\u001b[0;34m:\u001b[0m\u001b[0;34m\u001b[0m\u001b[0;34m\u001b[0m\u001b[0m\n\u001b[1;32m      4\u001b[0m     \u001b[0mlog\u001b[0m\u001b[0;34m(\u001b[0m\u001b[0;34m'OSError ...'\u001b[0m\u001b[0;34m)\u001b[0m\u001b[0;34m\u001b[0m\u001b[0;34m\u001b[0m\u001b[0m\n\u001b[1;32m      5\u001b[0m \u001b[0;32melse\u001b[0m\u001b[0;34m:\u001b[0m\u001b[0;34m\u001b[0m\u001b[0;34m\u001b[0m\u001b[0m\n",
      "\u001b[0;31mNameError\u001b[0m: name 'dangerous_call' is not defined"
     ]
    }
   ],
   "source": [
    "try:\n",
    "    dangerous_call()\n",
    "except OSError:\n",
    "    log('OSError ...')\n",
    "else:\n",
    "    after_call()"
   ]
  },
  {
   "cell_type": "markdown",
   "metadata": {},
   "source": [
    "只有try块不抛出异常，才会执行after_call()"
   ]
  },
  {
   "cell_type": "code",
   "execution_count": 16,
   "metadata": {},
   "outputs": [],
   "source": [
    "class LookingGlass:\n",
    "    \n",
    "    # 除self之外，Python调用__enter__方法时不传入其他参数\n",
    "    def __enter__(self):\n",
    "        import sys\n",
    "        self.original_write = sys.stdout.write\n",
    "        # 为sys.stdout.write打猴子补丁\n",
    "        sys.stdout.write = self.reverse_write\n",
    "        # 返回一个字符串，这样才有内容存入目标变量\n",
    "        return 'JABBERWOCKY'\n",
    "    \n",
    "    def reverse_write(self, text):\n",
    "        self.original_write(text[::-1])\n",
    "        \n",
    "    # 如果一切正常，Python调用__exit__方法时传入的参数是None,None,None；如果抛出异常，这三个参数是异常数据\n",
    "    # __exit__方法返回True，是为了告诉解释器异常已经处理了，此时解释器会压制异常，程序继续向后执行；如果__exit__方法返回None，或者True之外的值，with块中的任何异常将会向上冒泡\n",
    "    def __exit__(self, exc_type, exc_value, traceback):\n",
    "        import sys\n",
    "        sys.stdout.write = self.original_write\n",
    "        if exc_type is ZeroDivisionError:\n",
    "            print('Please DO NOT divide by zero')\n",
    "            return"
   ]
  },
  {
   "cell_type": "code",
   "execution_count": 17,
   "metadata": {},
   "outputs": [
    {
     "name": "stdout",
     "output_type": "stream",
     "text": [
      "pordwonS dna yttiK ,ecilA\n",
      "YKCOWREBBAJ\n"
     ]
    }
   ],
   "source": [
    "with LookingGlass() as what:\n",
    "    print('Alice, Kitty and Snowdrop')\n",
    "    print(what)"
   ]
  },
  {
   "cell_type": "code",
   "execution_count": 18,
   "metadata": {},
   "outputs": [
    {
     "data": {
      "text/plain": [
       "'JABBERWOCKY'"
      ]
     },
     "execution_count": 18,
     "metadata": {},
     "output_type": "execute_result"
    }
   ],
   "source": [
    "what"
   ]
  },
  {
   "cell_type": "markdown",
   "metadata": {},
   "source": [
    "解释器调用__enter__方法时,除了隐式的self之外，不会传入任何参数。\n",
    "\n",
    "传给`__exit__`方法的三个参数：\n",
    "1. `exc_type`:异常类（例如，`ZeroDivisionError`）\n",
    "2. `exc_value`:异常实例。有时会有参数传给异常构造方法，例如错误消息，这些参数可以使用`exc_value.args`获取。\n",
    "3. `traceback`:traceback对象。"
   ]
  },
  {
   "cell_type": "code",
   "execution_count": 19,
   "metadata": {},
   "outputs": [
    {
     "name": "stdout",
     "output_type": "stream",
     "text": [
      "<__main__.LookingGlass object at 0x7f3fe43a7290>\n"
     ]
    }
   ],
   "source": [
    "manager = LookingGlass()\n",
    "print(manager)"
   ]
  },
  {
   "cell_type": "code",
   "execution_count": 20,
   "metadata": {},
   "outputs": [],
   "source": [
    "monster = manager.__enter__()"
   ]
  },
  {
   "cell_type": "code",
   "execution_count": 21,
   "metadata": {},
   "outputs": [
    {
     "data": {
      "text/plain": [
       "True"
      ]
     },
     "execution_count": 21,
     "metadata": {},
     "output_type": "execute_result"
    }
   ],
   "source": [
    "monster == 'JABBERWOCKY'"
   ]
  },
  {
   "cell_type": "code",
   "execution_count": 22,
   "metadata": {},
   "outputs": [
    {
     "name": "stdout",
     "output_type": "stream",
     "text": [
      "YKCOWREBBAJ\n"
     ]
    }
   ],
   "source": [
    "print(monster)"
   ]
  },
  {
   "cell_type": "code",
   "execution_count": 23,
   "metadata": {},
   "outputs": [],
   "source": [
    "manager.__exit__(None, None, None)"
   ]
  },
  {
   "cell_type": "code",
   "execution_count": 24,
   "metadata": {},
   "outputs": [
    {
     "name": "stdout",
     "output_type": "stream",
     "text": [
      "JABBERWOCKY\n"
     ]
    }
   ],
   "source": [
    "print(monster)"
   ]
  },
  {
   "cell_type": "markdown",
   "metadata": {},
   "source": [
    "## contextlib模块"
   ]
  },
  {
   "cell_type": "markdown",
   "metadata": {},
   "source": [
    "### @contextmanager"
   ]
  },
  {
   "cell_type": "markdown",
   "metadata": {},
   "source": [
    "在使用`@contextmanager`装饰器的生成器中，`yield`语句的作用是把函数的定义体分成两部分：`yield`语句前面的所有代码在`with`块开始时（即解释器调用`__enter__`方法时）执行，`yield`语句后面的代码在`with`块结束时（即调用`__exit__`方法时）执行。"
   ]
  },
  {
   "cell_type": "code",
   "execution_count": 1,
   "metadata": {},
   "outputs": [],
   "source": [
    "import contextlib\n",
    "\n",
    "@contextlib.contextmanager\n",
    "def looking_glass_1():\n",
    "    import sys\n",
    "    original_write = sys.stdout.write\n",
    "    \n",
    "    def reverse_write(text):\n",
    "        original_write(text[::-1])\n",
    "    \n",
    "    sys.stdout.write = reverse_write\n",
    "    # 产出一个值，这个值会绑定到with语句中as子句的目标变量上。执行with块中的代码时，这个函数会在这一点暂停\n",
    "    yield 'JABBERWOCKY'\n",
    "    # 控制权一旦跳出with块，继续执行yield语句之后的代码\n",
    "    sys.stdout.write = original_write"
   ]
  },
  {
   "cell_type": "code",
   "execution_count": 2,
   "metadata": {},
   "outputs": [
    {
     "name": "stdout",
     "output_type": "stream",
     "text": [
      "pordwonS dna yttiK ,ecilA\n",
      "YKCOWREBBAJ\n"
     ]
    }
   ],
   "source": [
    "with looking_glass_1() as what:\n",
    "    print('Alice, Kitty and Snowdrop')\n",
    "    print(what)"
   ]
  },
  {
   "cell_type": "code",
   "execution_count": 3,
   "metadata": {},
   "outputs": [
    {
     "name": "stdout",
     "output_type": "stream",
     "text": [
      "JABBERWOCKY\n"
     ]
    }
   ],
   "source": [
    "print(what)"
   ]
  },
  {
   "cell_type": "markdown",
   "metadata": {},
   "source": [
    "`@contextmanger`装饰器会把函数包装成实现`__enter__`和`__exit__`方法的类。\n",
    "\n",
    "这个类的`__enter__`方法有如下的作用：\n",
    "\n",
    "1. 调用生成器函数，保存生成器对象（这里把它称为gen）\n",
    "2. 调用`next(gen)`，执行到`yield`关键字所在的位置\n",
    "3. 返回`next(gen)`产出的值，以便把产出的值绑定到`with/as`语句中的目标变量上\n",
    "\n",
    "`with`块终止时，`__exit__`方法会做以下几件事：\n",
    "\n",
    "1. 检查有没有把异常传给`exc_type`；如果有，调用`gen.throw(exception)`，在生成器函数定义体中包含`yield`关键字的那一行抛出异常\n",
    "2. 否则，调用`next(gen)`，继续执行生成器函数定义体中`yield`语句之后的代码\n",
    "\n",
    "`with`块终止时，如果出现异常，不会执行`yield`语句之后的代码，可能是不安全的。就本例而言，如果`with`语句发生异常，那么`sys.stdout.write`将永远无法恢复成原来的状态。"
   ]
  },
  {
   "cell_type": "code",
   "execution_count": 4,
   "metadata": {},
   "outputs": [],
   "source": [
    "@contextlib.contextmanager\n",
    "def looking_glass_2():\n",
    "    import sys\n",
    "    original_write = sys.stdout.write\n",
    "    \n",
    "    def reverse_write(text):\n",
    "        original_write(text[::-1])\n",
    "        \n",
    "    sys.stdout.write = reverse_write\n",
    "    msg = ''\n",
    "    try:\n",
    "        yield 'JABBERWOCKY'\n",
    "    except ZeroDivisionError:\n",
    "        msg = 'Please DO NOT division by zero!'\n",
    "    # 即使发生异常，依然能做一些收尾工作\n",
    "    finally:\n",
    "        sys.stdout.write = original_write\n",
    "        if msg: print(msg)"
   ]
  },
  {
   "cell_type": "markdown",
   "metadata": {},
   "source": [
    "`@contextlib.contextmanager`装饰器提供的`__exit__`方法默认行为是：假定发给生成器的所有异常都得到了处理，因此会对异常进行压制（进行压制的意思是不会向上冒泡异常）。如果不想`@contextmanager`压制异常，必须在被装饰的函数中显式重新抛出异常。\n",
    "\n",
    "**重点：使用`@contextmanager`装饰器时，要把`yield`语句放在`try/finally`语句中。**\n",
    "\n",
    "在`@contextmanager`装饰器的生成器中，`yield`与迭代没有任何关系，在这里生成器函数的作用更像协程：执行到某一点时暂停，让客户代码运行，直到客户让协程继续做事。\n",
    "\n",
    "`with`语句块中发生异常的语句之后的代码不会执行。"
   ]
  },
  {
   "cell_type": "code",
   "execution_count": 17,
   "metadata": {},
   "outputs": [
    {
     "name": "stdout",
     "output_type": "stream",
     "text": [
      "GFEDCBA\n",
      "====================  reset sys.stdout.write  ====================\n",
      "YKCOWREBBAJ\n",
      "ssssdff\n"
     ]
    }
   ],
   "source": [
    "with looking_glass_2() as what:\n",
    "    print('ABCDEFG')\n",
    "    print('='*20, ' reset sys.stdout.write '[::-1], '='*20)\n",
    "    print(what)\n",
    "    \n",
    "print('ssssdff')"
   ]
  },
  {
   "cell_type": "code",
   "execution_count": 18,
   "metadata": {},
   "outputs": [
    {
     "name": "stdout",
     "output_type": "stream",
     "text": [
      "GFEDCBA\n",
      "Please DO NOT division by zero!\n",
      "ssssdff\n"
     ]
    }
   ],
   "source": [
    "with looking_glass_2() as what:\n",
    "    print('ABCDEFG')\n",
    "    raise ZeroDivisionError\n",
    "    # 发生异常之后的代码不会被执行\n",
    "    print('='*20, ' reset sys.stdout.write '[::-1], '='*20)\n",
    "    print(what)\n",
    "    \n",
    "print('ssssdff')"
   ]
  },
  {
   "cell_type": "code",
   "execution_count": 16,
   "metadata": {},
   "outputs": [
    {
     "name": "stdout",
     "output_type": "stream",
     "text": [
      "ABCDEFG\n"
     ]
    },
    {
     "ename": "ZeroDivisionError",
     "evalue": "",
     "output_type": "error",
     "traceback": [
      "\u001b[0;31m---------------------------------------------------------------------------\u001b[0m",
      "\u001b[0;31mZeroDivisionError\u001b[0m                         Traceback (most recent call last)",
      "\u001b[0;32m<ipython-input-16-e096f6f07c5b>\u001b[0m in \u001b[0;36m<module>\u001b[0;34m\u001b[0m\n\u001b[1;32m      1\u001b[0m \u001b[0;32mwith\u001b[0m \u001b[0mlooking_glass_1\u001b[0m\u001b[0;34m(\u001b[0m\u001b[0;34m)\u001b[0m \u001b[0;32mas\u001b[0m \u001b[0mwhat\u001b[0m\u001b[0;34m:\u001b[0m\u001b[0;34m\u001b[0m\u001b[0;34m\u001b[0m\u001b[0m\n\u001b[1;32m      2\u001b[0m     \u001b[0mprint\u001b[0m\u001b[0;34m(\u001b[0m\u001b[0;34m'ABCDEFG'\u001b[0m\u001b[0;34m)\u001b[0m\u001b[0;34m\u001b[0m\u001b[0;34m\u001b[0m\u001b[0m\n\u001b[0;32m----> 3\u001b[0;31m     \u001b[0;32mraise\u001b[0m \u001b[0mZeroDivisionError\u001b[0m\u001b[0;34m\u001b[0m\u001b[0;34m\u001b[0m\u001b[0m\n\u001b[0m\u001b[1;32m      4\u001b[0m     \u001b[0mprint\u001b[0m\u001b[0;34m(\u001b[0m\u001b[0mwhat\u001b[0m\u001b[0;34m)\u001b[0m\u001b[0;34m\u001b[0m\u001b[0;34m\u001b[0m\u001b[0m\n\u001b[1;32m      5\u001b[0m \u001b[0;34m\u001b[0m\u001b[0m\n",
      "\u001b[0;31mZeroDivisionError\u001b[0m: "
     ]
    }
   ],
   "source": [
    "with looking_glass_1() as what:\n",
    "    print('ABCDEFG')\n",
    "    raise ZeroDivisionError\n",
    "    print(what)\n",
    "    \n",
    "print('ssssdff')"
   ]
  },
  {
   "cell_type": "markdown",
   "metadata": {},
   "source": [
    "总而言之：`@contextmanger`装饰器能把一个包含`yield`语句的简单生成器变成上下文管理器———这比定义一个至少包含两种方法的类要简洁。"
   ]
  },
  {
   "cell_type": "code",
   "execution_count": null,
   "metadata": {},
   "outputs": [],
   "source": []
  }
 ],
 "metadata": {
  "kernelspec": {
   "display_name": "Python 3",
   "language": "python",
   "name": "python3"
  },
  "language_info": {
   "codemirror_mode": {
    "name": "ipython",
    "version": 3
   },
   "file_extension": ".py",
   "mimetype": "text/x-python",
   "name": "python",
   "nbconvert_exporter": "python",
   "pygments_lexer": "ipython3",
   "version": "3.7.6"
  }
 },
 "nbformat": 4,
 "nbformat_minor": 4
}
