{
 "cells": [
  {
   "cell_type": "markdown",
   "metadata": {},
   "source": [
    "直接子类化内置类型（dict, list, str等）容易出错，因为内置类型的方法通常会忽略用户覆盖的方法。不要子类化内置类型，用户自己定义的类应该继承collections模块中相应的类，如，UserDict, UserList, UserString,这些类做了特殊设计，因此易于扩展。"
   ]
  },
  {
   "cell_type": "code",
   "execution_count": 1,
   "metadata": {},
   "outputs": [],
   "source": [
    "class A:\n",
    "    \n",
    "    @classmethod\n",
    "    def func1(cls):\n",
    "        print('classmethod')\n",
    "        \n",
    "    def func2(self):\n",
    "        print('instance method')"
   ]
  },
  {
   "cell_type": "code",
   "execution_count": 2,
   "metadata": {},
   "outputs": [
    {
     "name": "stdout",
     "output_type": "stream",
     "text": [
      "classmethod\n"
     ]
    }
   ],
   "source": [
    "A.func1()"
   ]
  },
  {
   "cell_type": "code",
   "execution_count": 6,
   "metadata": {},
   "outputs": [
    {
     "ename": "TypeError",
     "evalue": "func2() missing 1 required positional argument: 'self'",
     "output_type": "error",
     "traceback": [
      "\u001b[0;31m---------------------------------------------------------------------------\u001b[0m",
      "\u001b[0;31mTypeError\u001b[0m                                 Traceback (most recent call last)",
      "\u001b[0;32m<ipython-input-6-24ea7cd4ba02>\u001b[0m in \u001b[0;36m<module>\u001b[0;34m\u001b[0m\n\u001b[0;32m----> 1\u001b[0;31m \u001b[0mA\u001b[0m\u001b[0;34m.\u001b[0m\u001b[0mfunc2\u001b[0m\u001b[0;34m(\u001b[0m\u001b[0;34m)\u001b[0m\u001b[0;34m\u001b[0m\u001b[0;34m\u001b[0m\u001b[0m\n\u001b[0m",
      "\u001b[0;31mTypeError\u001b[0m: func2() missing 1 required positional argument: 'self'"
     ]
    }
   ],
   "source": [
    "A.func2()"
   ]
  },
  {
   "cell_type": "code",
   "execution_count": 7,
   "metadata": {},
   "outputs": [
    {
     "name": "stdout",
     "output_type": "stream",
     "text": [
      "instance method\n"
     ]
    }
   ],
   "source": [
    "A.func2(A)"
   ]
  },
  {
   "cell_type": "code",
   "execution_count": 5,
   "metadata": {},
   "outputs": [
    {
     "name": "stdout",
     "output_type": "stream",
     "text": [
      "instance method\n"
     ]
    }
   ],
   "source": [
    "a = A()\n",
    "a.func2()"
   ]
  },
  {
   "cell_type": "markdown",
   "metadata": {},
   "source": [
    "## 多重继承"
   ]
  },
  {
   "cell_type": "code",
   "execution_count": 23,
   "metadata": {},
   "outputs": [],
   "source": [
    "class A:\n",
    "    \n",
    "    def __init__(self):\n",
    "        self.a = 'A'\n",
    "        \n",
    "    def ping(self):\n",
    "        print(\"class A's ping\")\n",
    "        print(f\"self.a = {self.a}\")\n",
    "        \n",
    "class B(A):\n",
    "    def __init__(self):\n",
    "        self.a = 'B'\n",
    "    \n",
    "    def pong(self):\n",
    "        print(\"class B's pong\")\n",
    "        print(f\"self.a = {self.a}\")\n",
    "        \n",
    "class C(A):\n",
    "    \n",
    "    def __init__(self):\n",
    "        self.a = 'C'\n",
    "        \n",
    "    def pong(self):\n",
    "        print(\"class C's pong\")\n",
    "        print(f\"self.a = {self.a}\")\n",
    "        \n",
    "        \n",
    "class D(B, C):\n",
    "    \n",
    "    def __init__(self):\n",
    "        self.a = 'D'\n",
    "    \n",
    "    def ping(self):\n",
    "        \"\"\"\n",
    "        在这里调用D的父类的ping()方法，首先在B中寻找ping()方法，B中没有，\n",
    "        进而向C中寻找ping()方法，C中也没有，\n",
    "        接着向B的父类中【也就是A】寻找ping()方法，找到了。\n",
    "        \"\"\"\n",
    "        super().ping() \n",
    "        print(\"class D's ping\")\n",
    "        print(f\"self.a = {self.a}\")\n",
    "        \n",
    "    def pingpong(self):\n",
    "        self.ping()\n",
    "        super().ping()  # 根据方法解析顺序找到ping()方法。等价于 'A.ping(self)'\n",
    "        self.pong()  # 根据方法解析顺序找到ping()方法。等价于 'B.ping(self)'\n",
    "        super().pong()  # 根据方法解析顺序找到ping()方法。等价于 'B.ping(self)'\n",
    "        \"\"\"\n",
    "        直接调用C的pong()方法，注意传入的是self代表D的实例\n",
    "        \"\"\"\n",
    "        C.pong(self)  # 忽略方法解析顺序，直接使用C中的pong()方法"
   ]
  },
  {
   "cell_type": "code",
   "execution_count": 24,
   "metadata": {},
   "outputs": [],
   "source": [
    "d = D()"
   ]
  },
  {
   "cell_type": "code",
   "execution_count": 25,
   "metadata": {},
   "outputs": [
    {
     "name": "stdout",
     "output_type": "stream",
     "text": [
      "class B's pong\n",
      "self.a = D\n"
     ]
    }
   ],
   "source": [
    "d.pong()"
   ]
  },
  {
   "cell_type": "code",
   "execution_count": 26,
   "metadata": {},
   "outputs": [
    {
     "name": "stdout",
     "output_type": "stream",
     "text": [
      "class A's ping\n",
      "self.a = D\n",
      "class D's ping\n",
      "self.a = D\n"
     ]
    }
   ],
   "source": [
    "d.ping()"
   ]
  },
  {
   "cell_type": "code",
   "execution_count": 27,
   "metadata": {
    "scrolled": true
   },
   "outputs": [
    {
     "name": "stdout",
     "output_type": "stream",
     "text": [
      "class A's ping\n",
      "self.a = D\n",
      "class D's ping\n",
      "self.a = D\n",
      "class A's ping\n",
      "self.a = D\n",
      "class B's pong\n",
      "self.a = D\n",
      "class B's pong\n",
      "self.a = D\n",
      "class C's pong\n",
      "self.a = D\n"
     ]
    }
   ],
   "source": [
    "d.pingpong()"
   ]
  },
  {
   "cell_type": "markdown",
   "metadata": {},
   "source": [
    "**多重继承中方法的查找使用类似于宽度优先的策略进行。使用super()调用方法时，会遵循方法解析顺序，查看类的方法解析顺序，使用`classname.__mro__`。**"
   ]
  },
  {
   "cell_type": "code",
   "execution_count": 30,
   "metadata": {},
   "outputs": [
    {
     "data": {
      "text/plain": [
       "(__main__.D, __main__.B, __main__.C, __main__.A, object)"
      ]
     },
     "execution_count": 30,
     "metadata": {},
     "output_type": "execute_result"
    }
   ],
   "source": [
    "D.__mro__"
   ]
  },
  {
   "cell_type": "code",
   "execution_count": 31,
   "metadata": {},
   "outputs": [
    {
     "data": {
      "text/plain": [
       "(bool, int, object)"
      ]
     },
     "execution_count": 31,
     "metadata": {},
     "output_type": "execute_result"
    }
   ],
   "source": [
    "bool.__mro__"
   ]
  },
  {
   "cell_type": "code",
   "execution_count": 32,
   "metadata": {},
   "outputs": [
    {
     "data": {
      "text/plain": [
       "(int, object)"
      ]
     },
     "execution_count": 32,
     "metadata": {},
     "output_type": "execute_result"
    }
   ],
   "source": [
    "int.__mro__"
   ]
  },
  {
   "cell_type": "code",
   "execution_count": 33,
   "metadata": {},
   "outputs": [
    {
     "data": {
      "text/plain": [
       "(dict, object)"
      ]
     },
     "execution_count": 33,
     "metadata": {},
     "output_type": "execute_result"
    }
   ],
   "source": [
    "dict.__mro__"
   ]
  },
  {
   "cell_type": "code",
   "execution_count": 34,
   "metadata": {},
   "outputs": [],
   "source": [
    "import numbers"
   ]
  },
  {
   "cell_type": "code",
   "execution_count": 35,
   "metadata": {},
   "outputs": [
    {
     "data": {
      "text/plain": [
       "(numbers.Integral,\n",
       " numbers.Rational,\n",
       " numbers.Real,\n",
       " numbers.Complex,\n",
       " numbers.Number,\n",
       " object)"
      ]
     },
     "execution_count": 35,
     "metadata": {},
     "output_type": "execute_result"
    }
   ],
   "source": [
    "numbers.Integral.__mro__"
   ]
  },
  {
   "cell_type": "code",
   "execution_count": null,
   "metadata": {},
   "outputs": [],
   "source": []
  }
 ],
 "metadata": {
  "kernelspec": {
   "display_name": "Python 3",
   "language": "python",
   "name": "python3"
  },
  "language_info": {
   "codemirror_mode": {
    "name": "ipython",
    "version": 3
   },
   "file_extension": ".py",
   "mimetype": "text/x-python",
   "name": "python",
   "nbconvert_exporter": "python",
   "pygments_lexer": "ipython3",
   "version": "3.7.6"
  }
 },
 "nbformat": 4,
 "nbformat_minor": 4
}
